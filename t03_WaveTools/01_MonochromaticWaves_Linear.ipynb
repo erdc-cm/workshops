{
 "cells": [
  {
   "cell_type": "code",
   "execution_count": null,
   "metadata": {
    "collapsed": false
   },
   "outputs": [],
   "source": [
    "from IPython.display import HTML\n",
    "HTML('''<script>\n",
    "code_show=true; \n",
    "function code_toggle() {\n",
    " if (code_show){\n",
    " $('div.input').hide();\n",
    " } else {\n",
    " $('div.input').show();\n",
    " }\n",
    " code_show = !code_show\n",
    "} \n",
    "$( document ).ready(code_toggle);\n",
    "</script>\n",
    "The raw code for this IPython notebook is by default hidden for easier reading.\n",
    "To toggle on/off the raw code, click <a href=\"javascript:code_toggle()\">here</a>.''')"
   ]
  },
  {
   "cell_type": "markdown",
   "metadata": {},
   "source": [
    "Plane regular waves - Airy (Linear) Theory\n",
    "====================================================\n",
    "\n",
    "Free-surface elevation equation:\n",
    "\n",
    "$$\n",
    "\\eta(\\vec{x},z,t)=0.5 H \\cos (\\vec{k}\\cdot\\vec{x}-\\omega t +\\phi) \n",
    "$$\n",
    "\n",
    "Equation of velocity along the wave propagation direction:\n",
    "\n",
    "$$\n",
    "U_h(\\vec{x},z,t)=0.5 H\\omega \\cos (\\vec{k}\\cdot\\vec{x}-\\omega t +\\phi)\\frac{\\cosh(k(d+z))}{\\sinh(kd)}\n",
    "$$\n",
    "\n",
    "Equation of velocity along the gravity direction:\n",
    "\n",
    "$$\n",
    "U_v(\\vec{x},z,t)=0.5 H\\omega \\sin (\\vec{k}\\cdot\\vec{x}-\\omega t +\\phi)\\frac{\\sinh(k(d+z))}{\\sinh(kd)}\n",
    "$$\n",
    "\n",
    "\n"
   ]
  },
  {
   "cell_type": "markdown",
   "metadata": {},
   "source": [
    "Plane regular waves - Fenton Fourier Theory for nonlinear waves\n",
    "====================================================\n",
    "\n",
    "Free-surface elevation equation:\n",
    "\n",
    "$$\n",
    "\\eta(\\vec{x},z,t)=\\frac{1}{|k|}\\Sigma^{Nf}_i Y_i \\cos i \\cdot (\\vec{ k}\\cdot\\vec{x}-\\omega t +\\phi) \n",
    "$$\n",
    "\n",
    "Equation of velocity along the wave propagation direction:\n",
    "\n",
    "$$\n",
    "U_h(\\vec{x},z,t)=\\bar{U}+\\sqrt{\\frac{g}{k}} \\Sigma^{Nf}_i iB_i \\cos i \\cdot (\\vec{k}\\cdot\\vec{x}-\\omega t +\\phi)\\frac{\\cosh i\\cdot(k(d+z))}{\\cosh i \\cdot (kd)}\n",
    "$$\n",
    "\n",
    "Equation of velocity along the gravity direction:\n",
    "\n",
    "$$\n",
    "U_v(\\vec{x},z,t)=\\sqrt{\\frac{g}{k}} \\Sigma^{Nf}_i iB_i \\sin i \\cdot (\\vec{k}\\cdot\\vec{x}-\\omega t +\\phi)\\frac{\\sinh i\\cdot(k(d+z))}{\\cosh i \\cdot (kd)}\n",
    "$$\n",
    "\n",
    "\n"
   ]
  },
  {
   "cell_type": "markdown",
   "metadata": {},
   "source": [
    "Setting up wave parameters for regular waves\n",
    "========================================="
   ]
  },
  {
   "cell_type": "code",
   "execution_count": null,
   "metadata": {
    "collapsed": false
   },
   "outputs": [],
   "source": [
    "%matplotlib inline\n",
    "from matplotlib import pyplot as plt\n",
    "import numpy as np\n",
    "import sys\n",
    "from proteus import Comm\n",
    "from proteus import Profiling\n",
    "Profiling.procID=0\n",
    "from proteus.Profiling import openLog\n",
    "\n",
    "sys.path.append(\"C:/Users/present/Desktop/proteus/\")\n",
    "#The notebook will work with the following commit:\n",
    "#https://github.com/erdc-cm/proteus/commit/9bb34b3563b5ddab6cb1dd9f75173da2710d2a41\n",
    "from proteus import Profiling,SpatialTools\n",
    "#import imp\n",
    "#WT = imp.load_source('WaveTools', 'WaveTools.pyx')\n",
    "\n",
    "from proteus import WaveTools as WT\n",
    "from ipywidgets import HBox, Label, IntSlider, FloatSlider,FloatText, Dropdown, Tab, VBox, HBox,Box,Checkbox,IntText\n",
    "from IPython.display import display\n",
    "from proteus.WaveTools import dispersion\n",
    "from numpy import pi\n",
    "\n",
    "\n",
    "#============================WAVE PROPERTIES================================================================\n",
    "waveType = Dropdown(value=\"Linear\",options={\"Linear\":\"Linear\",\"Nonlinear\":\"Fenton\"},description=\"Type\")\n",
    "waveHeight=FloatText(value=0.1,description=\"Height (m)\")\n",
    "period = FloatText(value=1.94,description=\"Period (s)\")\n",
    "depth =FloatText(value=1,description=\"Depth (m)\")\n",
    "x=FloatText(value=1,description=\"Dir: x\")\n",
    "y=FloatText(value=0,description=\"y\")\n",
    "z=FloatText(value=0,description=\"z\")\n",
    "\n",
    "wwl = dispersion(2*pi/period.value,depth.value)\n",
    "wl=FloatText(value=2*pi/wwl,description=\"Wave length (m)\")\n",
    "\n",
    "#Setting dependencies of wavelength\n",
    "def update_wl_p(args):\n",
    "    ww = 2*pi/args['new']\n",
    "    wl.value = 2*pi/dispersion(ww,depth.value)\n",
    "def update_wl_d(args):\n",
    "    wl.value = 2*pi/dispersion(2*pi/period.value,args['new'])\n",
    "def update_wl_t(args):\n",
    "    if(args[\"new\"]==\"Fenton\"):\n",
    "        wl.value = 0.\n",
    "    else:\n",
    "        wl.value = 2*pi/dispersion(2*pi/period.value,depth.value)\n",
    "\n",
    "disclaimer = Label(\"\")    \n",
    "def update_dc_t(args):\n",
    "    if(args[\"new\"]==\"Fenton\"):\n",
    "        disclaimer.value = \"Fenton method is selected Please define wavelenght above and YCoeff and BCoeff in the cell below\"\n",
    "    else:\n",
    "        disclaimer.value = \"\"\n",
    "\n",
    "period.observe(update_wl_p,'value')\n",
    "depth.observe(update_wl_d,'value')\n",
    "waveType.observe(update_wl_t,'value')\n",
    "waveType.observe(update_dc_t,'value')\n",
    "direction = HBox([x,y,z])\n",
    "\n",
    "\n",
    "\n",
    "\n",
    "#Setting wave properties tab\n",
    "waveProperties = VBox([waveType,waveHeight,period,depth,wl,direction,disclaimer])\n",
    "\n",
    "#=====================================ENVIRONMENTAL PROPERTIES========================================\n",
    "\n",
    "mwl = FloatText(value=0,description=\"M.W.L (m)\")\n",
    "\n",
    "ux = FloatText(value=0,description=\"Current (m/s) x\")\n",
    "uy = FloatText(value=0,description=\"y\")\n",
    "uz = FloatText(value=0,description=\"z\")\n",
    "U = HBox([ux,uy,uz])\n",
    "\n",
    "gx=FloatText(value=0,description=\"g(m/s2): x\")\n",
    "gy=FloatText(value=0,description=\"y\")\n",
    "gz=FloatText(value=-9.81,description=\"z\")\n",
    "gg = HBox([gx,gy,gz])\n",
    "\n",
    "disclaimer2 = Label(\"Current velocities can only be defined only with nonlinear waves\")    \n",
    "\n",
    "def update_current(args):\n",
    "    if(args[\"new\"]==\"Linear\"):\n",
    "        ux.value=0.\n",
    "        uy.value=0.\n",
    "        uz.value=0.\n",
    "\n",
    "def update_dc_c(args):\n",
    "    if(args[\"new\"]==\"Linear\"):\n",
    "        disclaimer2.value = \"Current velocities can only be defined using nonlinear waves\"\n",
    "    else:\n",
    "        disclaimer2.value = \"\"\n",
    "waveType.observe(update_current,\"value\")\n",
    "waveType.observe(update_dc_c,\"value\")\n",
    "#Setting env properties tab\n",
    "environmentalProperties = VBox([mwl,gg,U,disclaimer2])\n",
    "\n",
    "#======================= RECONSTRUCTION OPTIONS================================\n",
    "checkFast = Checkbox(value=False,disabled=False)\n",
    "phase = FloatText(value=0,description=\"Wave phase\")\n",
    "Nf = IntText(value=1)\n",
    "lnf=Label(\"No of Fourier components only to be used for Fenton (only set when Nonlinear waves are selected) \")\n",
    "def update_Nf(args):\n",
    "    if(waveType.value==\"Linear\"):\n",
    "        Nf.value=1\n",
    "    else:\n",
    "        Nf.value=8\n",
    "waveType.observe(update_Nf,'value')\n",
    "opt=HBox([Label('Optimised functions?'),checkFast])\n",
    "#Setting env properties tab\n",
    "reconstructionProperties = VBox([phase,opt,lnf,Nf])\n",
    "\n",
    "#================================TIME SERIES OPTIONS============================\n",
    "checkTime = Checkbox(value=True,disabled=False)\n",
    "minTime = FloatText(value=0,description=\"min\")\n",
    "maxTime = FloatText(value=5*period.value,description=\"max\")\n",
    "def updateRange(args):\n",
    "    maxTime.value=5.*args['new']\n",
    "period.observe(updateRange,\"value\")\n",
    "\n",
    "optTime=HBox([Label('Plot time series?'),\n",
    "            checkTime,\n",
    "             Label('Range in (s)'),\n",
    "             minTime,maxTime])\n",
    "    \n",
    "checkX = Checkbox(value=True,disabled=False)\n",
    "minX = FloatText(value=0,description=\"min\")\n",
    "maxX = FloatText(value=5*wl.value,description=\"max\")\n",
    "def updateRangeX(args):\n",
    "    maxX.value=5.*args['new']\n",
    "wl.observe(updateRangeX,\"value\")\n",
    "optX=HBox([Label('Plot contours?'),\n",
    "            checkX,\n",
    "             Label('Range in (m)'),\n",
    "             minX,maxX])\n",
    "timeOptions=VBox([optTime,optX,Label(\"Use z as the gravity axis for plotting contours\")])\n",
    "\n",
    "#=========================Setting up tabs======================================\n",
    "tabTitles=[\"Wave Properties\",\"Environmental properties\",\"Reconstruction options\",\"Wave series options\"]\n",
    "tabs = Tab(children=[waveProperties,environmentalProperties,reconstructionProperties,timeOptions])\n",
    "for ii in range(len(tabTitles)):\n",
    "    tabs.set_title(ii,tabTitles[ii])\n",
    "display(tabs)\n",
    "\n",
    "\n",
    "\n",
    "\n",
    "\n"
   ]
  },
  {
   "cell_type": "code",
   "execution_count": null,
   "metadata": {
    "collapsed": false
   },
   "outputs": [],
   "source": [
    "Yc=[FloatText(0.) for ii in range(Nf.value)]\n",
    "V1=VBox([Label(\"Ycoeff\")]+Yc)\n",
    "Bc=[FloatText(0.) for ii in range(Nf.value)]\n",
    "V2=VBox([Label(\"Bcoeff\")]+Bc)\n",
    "button = Button(description=\"Fenton coefficients\")\n",
    "def buttonF(btn):\n",
    "    if waveType.value==\"Fenton\":\n",
    "        display(HBox([V1,V2]))\n",
    "    else:\n",
    "        print(\"Ycoeff and Bcoeff are not set for Linear Waves\")\n",
    "\n",
    "button.on_click(buttonF)\n",
    "display(button)\n"
   ]
  },
  {
   "cell_type": "code",
   "execution_count": null,
   "metadata": {
    "collapsed": true
   },
   "outputs": [],
   "source": []
  },
  {
   "cell_type": "code",
   "execution_count": null,
   "metadata": {
    "collapsed": false
   },
   "outputs": [],
   "source": [
    "from IPython.display import Javascript\n",
    "from ipywidgets import Button\n",
    "Javascript('IPython.notebook.execute_cells_below()')\n",
    "\n",
    "def run_all(ev):\n",
    "    display(Javascript('IPython.notebook.execute_cells_below()'))\n",
    "\n",
    "button = Button(description=\"Load WaveTools\")\n",
    "button.on_click(run_all)\n",
    "display(button)"
   ]
  },
  {
   "cell_type": "code",
   "execution_count": null,
   "metadata": {
    "collapsed": false
   },
   "outputs": [],
   "source": [
    "openLog(\"WaveTools.log\",1)\n",
    "\n",
    "Ycoeff = np.zeros(Nf.value)\n",
    "Bcoeff = np.zeros(Nf.value)\n",
    "for ii in range(Nf.value):\n",
    "    Ycoeff[ii]=Yc[ii].value\n",
    "    Bcoeff[ii]=Bc[ii].value\n",
    "try:\n",
    "    MW = WT.MonochromaticWaves(period=period.value,\n",
    "                        waveHeight=waveHeight.value,\n",
    "                        mwl=mwl.value,\n",
    "                        depth=depth.value,\n",
    "                        g=np.array([gx.value,gy.value,gz.value]),\n",
    "                        waveDir=np.array([x.value,y.value,z.value]),\n",
    "                        wavelength=wl.value,\n",
    "                        waveType=waveType.value,\n",
    "                        Ycoeff=Ycoeff,\n",
    "                        Bcoeff=Bcoeff,\n",
    "                        Nf = Nf.value,\n",
    "                        meanVelocity=np.array([ux.value,uy.value,uz.value]),\n",
    "                        phi0=phase.value,\n",
    "                        )\n",
    "    Profiling.closeLog()\n",
    "    print(\"WaveTools loaded, click button above to reload\")\n",
    "except:\n",
    "    print \"WaveTools did not load. Printing errors\"\n",
    "    Profiling.closeLog()\n",
    "    ff=open(\"WaveTools.log\",\"r\")\n",
    "    loglines = ff.readlines()\n",
    "    line1 =\"\"\n",
    "    for line in loglines:\n",
    "        if line != line1:\n",
    "            print line \n",
    "        line1=line\n",
    "    ff.close()\n",
    "import os\n",
    "os.remove(\"WaveTools.log\")"
   ]
  },
  {
   "cell_type": "markdown",
   "metadata": {},
   "source": [
    "Calculating and plotting waves\n",
    "=============================================================\n",
    "\n"
   ]
  },
  {
   "cell_type": "code",
   "execution_count": null,
   "metadata": {
    "collapsed": false
   },
   "outputs": [],
   "source": [
    "if(checkTime.value):\n",
    "    xx = FloatText(value=0,description=\"x:\")\n",
    "    yy = FloatText(value=0,description=\"y:\")\n",
    "    zz = FloatText(value=mwl.value-depth.value/2.,description=\"z:\")\n",
    "    display(HBox([xx,yy,zz]))\n",
    "    psize = 20 \n"
   ]
  },
  {
   "cell_type": "code",
   "execution_count": null,
   "metadata": {
    "collapsed": false
   },
   "outputs": [],
   "source": [
    "from IPython.display import Javascript\n",
    "from ipywidgets import Button\n",
    "Javascript('IPython.notebook.execute_cells_below()')\n",
    "\n",
    "def run_all(ev):\n",
    "    display(Javascript('IPython.notebook.execute_cells_below()'))\n",
    "\n",
    "button = Button(description=\"Update plots\")\n",
    "button.on_click(run_all)\n",
    "display(button)"
   ]
  },
  {
   "cell_type": "code",
   "execution_count": null,
   "metadata": {
    "collapsed": false
   },
   "outputs": [],
   "source": [
    "#Calculating time series\n",
    "print zz.value\n",
    "if(checkTime.value):\n",
    "    xo = [xx.value, yy.value, zz.value]\n",
    "    dt = period.value/25.\n",
    "    Ndt = maxTime.value-minTime.value\n",
    "    Ndt = int(Ndt/dt)\n",
    "    tnlist = np.linspace(minTime.value,maxTime.value,Ndt)\n",
    "    eta_t=np.zeros(Ndt).copy()\n",
    "    uux=np.zeros(Ndt).copy()\n",
    "    uuy=np.zeros(Ndt).copy()\n",
    "    uuz=np.zeros(Ndt).copy()\n",
    "    for i in range(len(tnlist)):\n",
    "        t = tnlist[i]\n",
    "        eta_t[i] = MW.eta(xo, t)\n",
    "        uux[i],uuy[i],uuz[i] = MW.u(xo, t)\n",
    "    plt.figure(2,figsize=(10,6), dpi=100)\n",
    "    plt.title(\"Free surface elevation vs time at [x,y]=\"+str(xo[:2]))\n",
    "    plt.xlim(minTime.value, maxTime.value)\n",
    "    plt.plot(tnlist, eta_t,\"k-\")\n",
    "    plt.xlabel(\"Time (s)\", size=psize)\n",
    "    plt.ylabel(\"$\\eta$ (m)\", size=psize)\n",
    "    plt.grid()\n",
    "    plt.show()\n",
    "    \n",
    "    plt.figure(3,figsize=(10,6), dpi=100)\n",
    "    plt.title(\"Velocities vs time at \"+str(xo))\n",
    "    plt.xlim(minTime.value, maxTime.value)\n",
    "    plt.plot(tnlist, uux,\"r-\",label=\"ux\")\n",
    "    plt.plot(tnlist, uuy,\"g--\",label=\"uy\")\n",
    "    plt.plot(tnlist, uuz,\"b:\",label=\"uz\")\n",
    "    plt.xlabel(\"Time (s)\", size=psize)\n",
    "    plt.ylabel(\"u (m/s)\", size=psize)\n",
    "    plt.legend()\n",
    "    plt.grid()\n",
    "    plt.show()"
   ]
  },
  {
   "cell_type": "code",
   "execution_count": null,
   "metadata": {
    "collapsed": false
   },
   "outputs": [],
   "source": [
    "psize=20\n",
    "if checkX.value:\n",
    "    dx=wl.value/25.\n",
    "    Ndx = maxX.value-minX.value\n",
    "    n = int(Ndx/dx)\n",
    "    eta_xy = np.zeros((n, n),)\n",
    "    xi =np.linspace(minX.value,maxX.value,n)\n",
    "    ddepth = min(wl.value,depth.value)\n",
    "    dz = ddepth/50.\n",
    "    nz = int((ddepth)/dz)\n",
    "    zi =np.linspace(mwl.value-ddepth,mwl.value+waveHeight.value,n)\n",
    "\n",
    "    for i in range(n):\n",
    "        for j in range(n):\n",
    "            xo = [xi[i], xi[j], 0]\n",
    "            eta_xy[i,j] = MW.eta(xo, 0.)\n",
    "    #Plotting the contour\n",
    "    plt.figure(1,figsize=(10, 6), dpi=100)\n",
    "    plt.title(\"Free surface contours at t=0)\")\n",
    "\n",
    "    X,Y = np.meshgrid(xi,xi)\n",
    "    CS = plt.contourf(Y,X,eta_xy, 16, alpha=0.8, cmap='jet')\n",
    "    plt.xlabel(\"x (m)\", size=psize)\n",
    "    plt.ylabel(\"y (m)\", size=psize)\n",
    "    CB = plt.colorbar(CS, shrink=0.8, extend='both')\n",
    "    CB.set_label(\"$\\eta$ (m)\", size = psize)\n",
    "    plt.xlim(min(xi),max(xi))\n",
    "    plt.ylim(min(xi),max(xi))         \n",
    "    plt.show()\n",
    "    \n",
    "    norm = WT.setDirVector(np.array([x.value,y.value,z.value]))\n",
    "    normVert = WT.setVertDir(np.array([gx.value,gy.value,gz.value]))\n",
    "    ur  = np.zeros((len(xi),len(zi)),)\n",
    "    uv  = np.zeros((len(xi),len(zi)),)\n",
    "    for i in range(len(xi)):\n",
    "        for ii in range(len(zi)):\n",
    "            xoo = xi[i]*norm + [0,0,zi[ii]]\n",
    "            U = MW.u(xoo, 0.)\n",
    "            ur[i,ii] = sum(U[:]*norm[:])\n",
    "            uv[i,ii] = sum(U[:]*normVert[:])\n",
    "            if zi[ii]>  MW.eta(xoo, 0.):\n",
    "                ur[i,ii] = np.nan\n",
    "                uv[i,ii] = np.nan\n",
    "\n",
    "    #Plotting velocity contours\n",
    "    plt.figure(5,figsize=(10, 6), dpi=100)\n",
    "    plt.title(\"Horizontal velocity profile\")\n",
    "    X,Y = np.meshgrid(zi,xi)\n",
    "    CS = plt.contourf(Y,X,ur, 16, alpha=0.8, cmap='jet')\n",
    "    plt.xlabel(\"x (m)\", size=psize)\n",
    "    plt.ylabel(\"z (m)\", size=psize)\n",
    "    CB = plt.colorbar(CS, shrink=0.8, extend='both')\n",
    "    CB.set_label(\"Uhorizontal (m/s)\", size = psize)\n",
    "    plt.xlim(min(xi),max(xi))\n",
    "    plt.ylim(min(zi),max(zi))         \n",
    "    plt.show()\n",
    "\n",
    "    plt.figure(6,figsize=(10, 6), dpi=100)\n",
    "    plt.title(\"Vertical velocity profile\")\n",
    "    X,Y = np.meshgrid(zi,xi)\n",
    "    CS = plt.contourf(Y,X,uv, 16, alpha=0.8, cmap='jet')\n",
    "    plt.xlabel(\"x (m)\", size=psize)\n",
    "    plt.ylabel(\"z (m)\", size=psize)\n",
    "    CB = plt.colorbar(CS, shrink=0.8, extend='both')\n",
    "    CB.set_label(\"Uvert (m/s)\", size = psize)\n",
    "    plt.xlim(min(xi),max(xi))\n",
    "    plt.ylim(min(zi),max(zi))         \n",
    "    plt.show()"
   ]
  },
  {
   "cell_type": "markdown",
   "metadata": {},
   "source": [
    "\n"
   ]
  }
 ],
 "metadata": {
  "kernelspec": {
   "display_name": "Python 2",
   "language": "python",
   "name": "python2"
  },
  "language_info": {
   "codemirror_mode": {
    "name": "ipython",
    "version": 2
   },
   "file_extension": ".py",
   "mimetype": "text/x-python",
   "name": "python",
   "nbconvert_exporter": "python",
   "pygments_lexer": "ipython2",
   "version": "2.7.11"
  },
  "widgets": {
   "state": {
    "11c32dc547954e8390d531bf6cfed630": {
     "views": [
      {
       "cell_index": 5
      }
     ]
    },
    "131212d3838f47668f646937e7698bda": {
     "views": [
      {
       "cell_index": 11
      }
     ]
    },
    "3aee00d4a73f4fb0957cad84f87f8a3e": {
     "views": [
      {
       "cell_index": 4
      }
     ]
    },
    "6293db8ad30e40eeb9a6348ee730b357": {
     "views": [
      {
       "cell_index": 5
      }
     ]
    },
    "a1861a5a66a143f9a547f59795f40401": {
     "views": [
      {
       "cell_index": 5
      }
     ]
    },
    "a32acfb281304c2d815b0d77d929ec19": {
     "views": [
      {
       "cell_index": 5
      }
     ]
    },
    "b65037cc39ec4de583d11385f097a8e1": {
     "views": [
      {
       "cell_index": 10
      }
     ]
    },
    "bfd8146a2a9f462ca2209fdbb3798293": {
     "views": [
      {
       "cell_index": 7
      }
     ]
    },
    "c56f7ad6165945a599406b6d3356e4c7": {
     "views": [
      {
       "cell_index": 9
      }
     ]
    }
   },
   "version": "1.2.0"
  }
 },
 "nbformat": 4,
 "nbformat_minor": 0
}
