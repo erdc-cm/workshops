{
 "cells": [
  {
   "cell_type": "markdown",
   "metadata": {},
   "source": [
    "Using RandomWavesFast class\n",
    "====================================================\n",
    "\n",
    "In this notebook, we describe how we can generate random waves in an optimised manner using the RandomWavesFast. We load the RandomWaves and RandomWavesFast class for generating the same wave field time series, using 2000 frequencies for both classes and subsequently we generate the free surface elevation and / or velocities using both classes. We check the fidelity of the reconstruction and we compare computational times.  "
   ]
  },
  {
   "cell_type": "code",
   "execution_count": 27,
   "metadata": {
    "collapsed": false
   },
   "outputs": [],
   "source": [
    "%matplotlib inline\n",
    "from matplotlib import pyplot as plt\n",
    "import matplotlib.animation as animation\n",
    "import numpy as np\n",
    "import sys\n",
    "#Append path of local proteus installation\n",
    "sys.path.append(\"D:/Work/My repos/proteus/\")\n",
    "sys.path.append(\"D:/Work/My repos/proteus/proteus\")\n",
    "\n",
    "#The notebook will work with the following commit:\n",
    "#https://github.com/erdc-cm/proteus/commit/9bb34b3563b5ddab6cb1dd9f75173da2710d2a41\n",
    "import imp\n",
    "WT = imp.load_source('WaveTools', 'D:/Work/My repos/proteus/proteus/WaveTools.py')\n",
    "import time \n",
    "#from proteus import WaveTools as WT\n",
    "\n",
    "Tp = 2.\n",
    "Hs = 0.05\n",
    "mwl = 1.\n",
    "depth = 1.\n",
    "g = np.array([0., -9.81, 0])\n",
    "N = 500\n",
    "bandFactor = 2.\n",
    "spectName = \"JONSWAP\"\n",
    "spectral_params = None\n",
    "waveDir = np.array([1., 0., 0.])\n",
    "\n",
    "phi = 2.0*3.14159*np.random.random(N)\n"
   ]
  },
  {
   "cell_type": "code",
   "execution_count": 28,
   "metadata": {
    "collapsed": false
   },
   "outputs": [],
   "source": [
    "phi = [ 0.08505221,1.96637945,6.20931973,5.75417395,0.57278727,2.59001321\n",
    ",4.85305138,3.7492003, 0.64188381,5.57616135,5.46865853,2.29370996\n",
    ",1.5574841, 5.17675828,4.23463585,1.95926471,1.57389335,1.00251229\n",
    ",2.10748124,6.17985685,2.3808834, 2.55377477,0.87416548,3.02540598\n",
    ",5.37090897,2.3921992, 3.53569067,4.19159874,5.13154592,0.22189859\n",
    ",0.56587228,5.30562033,3.35991729,1.52999873,4.69980458,5.3829687\n",
    ",2.09563248,3.81035917,3.85902941,2.63883353,5.28727858,4.97062777\n",
    ",5.24786899,3.37422863,4.8245302, 4.82903994,1.94988084,1.474368\n",
    ",1.22668221,5.9386886, 1.44434222,2.89025108,3.39644097,3.71082416\n",
    ",0.5657819, 1.13590219,5.15104584,4.40534054,4.66490625,3.66663191\n",
    ",6.06459691,2.63265734,5.21791486,5.21496562,1.56568947,6.0073418\n",
    ",4.98785452,5.61538956,5.46543072,0.50470288,4.12420825,0.24148202\n",
    ",4.5409823, 3.23941414,1.09136137,2.84688859,2.1999951, 6.07739574\n",
    ",0.4988614, 2.9490666, 1.83635461,4.6693894, 0.08423181,0.04119957\n",
    ",5.56841896,5.90654508,4.69744222,5.65930554,4.00480762,0.26141701\n",
    ",2.71662653,1.01493614,3.07005626,3.12111022,2.43946959,3.42025642\n",
    ",5.18826863,2.47182269,5.21600294,5.01564656,3.96939005,4.31641076\n",
    ",3.70476929,2.5635288, 1.09821331,0.71251074,4.4910146, 5.53463263\n",
    ",0.27839641,2.15705477,5.10032867,5.60195455,2.63586078,0.26154912\n",
    ",0.18161368,2.90883363,2.18573325,3.21437689,2.04537545,4.56541933\n",
    ",5.84300176,2.50049232,2.99958841,3.23267234,5.79565407,1.82400506\n",
    ",5.0257804, 0.49874914,5.81210453,4.13988347,0.50886141,3.13575195\n",
    ",0.95471427,2.64855131,0.65121557,5.99227845,4.0043897, 4.58341322\n",
    ",2.78899991,3.79661334,3.74658902,0.21965816,3.28360998,1.47615102\n",
    ",4.33166367,3.52684002,2.07785709,3.57479279,1.0958635, 0.01111023\n",
    ",5.2237873, 4.95904691,2.76437028,5.60085813,6.22618353,1.93962535\n",
    ",2.33696192,3.58853775,3.01429175,5.75999695,3.81958933,4.25203172\n",
    ",4.159369,0.21494665,3.34953871,0.82496986,1.80925971,6.1643695\n",
    ",4.52063375,0.81981813,0.27819639,2.10785927,2.50529243,4.99467952\n",
    ",4.54022651,4.66476891,1.3881411, 3.13362254,4.95640308,4.45979716\n",
    ",0.26704661,4.18167824,2.66362217,0.42933765,2.84446418,4.75422818\n",
    ",2.50892185,2.4552425, 2.36044365,0.86190069,0.51770973,2.86051501\n",
    ",4.36434598,1.84577906,0.87898749,3.68507369,3.58080028,4.38648549\n",
    ",3.59268338,1.58632569,5.40334974,5.76149694,1.00099044,6.24991549\n",
    ",5.19262448,2.41879329,0.65442379,2.32292512,0.4976888, 5.62282746\n",
    ",0.60738594,1.3124487, 0.11681731,4.99693834,3.40951552,1.42443679\n",
    ",0.35689529,5.40407491,2.09862423,1.01438387,4.02659388,1.15763631\n",
    ",1.0737321, 2.52855567,0.12372284,0.65270284,3.89643835,4.9287095\n",
    ",0.58646729,3.94218121,5.11643588,2.29350103,3.64944718,3.71278722\n",
    ",3.09510821,1.13853743,6.05613365,2.94943302,5.42282522,1.40943788\n",
    ",0.88105597,5.55139145,1.25132869,6.25544808,4.32722434,3.95884794\n",
    ",5.36179544,0.34335011,5.26858259,5.75834133,2.61057888,4.49909673\n",
    ",1.00033366,5.51417649,1.86231653,0.53950555,0.98274393,5.42204009\n",
    ",3.18679775,5.73673456,5.12909263,2.72007462,6.2733604, 3.63177687\n",
    ",4.36579323,0.72691933,4.98654651,0.24599549,5.98247267,1.74576041\n",
    ",5.67532736,0.18888756,4.09267408,1.78764466,1.67091425,5.32326187\n",
    ",2.24059336,3.87754606,1.79275558,0.73980415,5.25126007,3.83125359\n",
    ",4.6095666, 6.14082018,1.61253724,1.67932902,1.59551675,1.88082506\n",
    ",1.38675629,0.04257042,2.84908617,2.58947418,2.17641568,3.13359337\n",
    ",1.24649079,1.19446159,5.97766434,1.78721563,3.67333427,4.5258098\n",
    ",4.18043573,0.39088501,1.50968255,4.1405858, 5.54560034,2.39612305\n",
    ",0.09390265,1.79475328,6.06117985,5.23601633,5.70596206,2.39163238\n",
    ",5.51440183,3.90298456,2.46690855,0.94454953,0.0445346, 6.07953573\n",
    ",2.58727459,3.24857562,3.38365192,0.70461515,2.11132584,0.33205514\n",
    ",0.16742516,5.52071443,5.33392754,0.47360762,2.9319987, 0.78552558\n",
    ",0.19313311,2.9437311, 2.4444437, 2.81999159,6.00235473,0.97967621\n",
    ",5.2190034, 3.5867933, 0.82976081,0.42400783,4.70716648,5.03700558\n",
    ",5.02705645,0.81289855,3.70330016,1.29949363,0.44460438,1.89118893\n",
    ",6.06797841,1.07584892,0.64476762,4.5159009, 3.57001258,2.6596662\n",
    ",0.91690914,2.66494094,5.90819244,0.27676671,3.55375445,4.6973771\n",
    ",1.34140149,0.66457204,3.89650323,0.78896802,1.66599741,3.73050947\n",
    ",4.5429063, 5.09221959,3.53576052,4.79778625,2.25396469,5.51159651\n",
    ",4.9149595, 4.3625704, 5.96752066,1.37640392,3.48418871,2.39455734\n",
    ",3.02072351,0.24346791,4.57993326,3.47537945,0.93063636,0.04049527\n",
    ",4.21414823,3.1331206, 0.46983289,4.50940045,5.14178855,2.84243276\n",
    ",2.16820368,2.39087937,2.41589416,0.03874063,3.14191708,1.21939028\n",
    ",0.88779252,2.70698564,2.02650604,0.04355002,2.43532276,6.21929833\n",
    ",3.31991332,3.72006551,0.18122632,5.18298754,1.38531971,6.04118886\n",
    ",4.62923071,4.89932419,1.25035935,5.28076858,5.5442429, 2.91882629\n",
    ",1.69561354,4.01670327,1.0049459, 2.58551944,5.65643355,1.55253444\n",
    ",4.13985916,5.52479377,4.73074662,1.53204278,4.84307251,0.94432562\n",
    ",0.0458268, 2.64766503,3.13616952,5.05791479,2.24964546,5.75144125\n",
    ",1.25912251,0.86942627,0.83574375,6.13036761,1.14660498,4.0978376\n",
    ",4.38774048,3.3015679, 0.38685901,0.24708324,4.32139261,4.47294023\n",
    ",0.5981741, 0.89492671,0.69328969,2.20523867,5.23462856,3.99610766\n",
    ",0.08704348,4.58163843,3.37502533,5.69460254,5.75235651,3.78348114\n",
    ",3.9783676, 3.09120234,3.85069308,4.11844706,5.43478128,5.0109665\n",
    ",6.06881233,1.96098241,5.57568014,5.18428584,1.55689558,5.06701736\n",
    ",5.83212193,3.11081234,0.43695982,3.41419257,4.17325759,1.1246594\n",
    ",2.8316431, 6.27514562,0.55224665,3.6122587, 3.58411811,5.68963043\n",
    ",5.08642244,3.29617159,5.19820466,0.06763177,4.05011204,3.70994803\n",
    ",0.91717501,0.93970396,3.51247521,5.74395432,5.9938809, 5.25223192\n",
    ",5.80889863,0.44602759,4.38553312,3.79554173,4.22519061,6.2420331\n",
    ",2.68021764,2.60754289]"
   ]
  },
  {
   "cell_type": "markdown",
   "metadata": {},
   "source": [
    "Calling RandomWaves and RandomWavesFast class to generate the free surface elevation and velocities"
   ]
  },
  {
   "cell_type": "code",
   "execution_count": 32,
   "metadata": {
    "collapsed": false
   },
   "outputs": [
    {
     "ename": "SyntaxError",
     "evalue": "invalid syntax (<ipython-input-19-f66f657d762e>, line 42)",
     "output_type": "error",
     "traceback": [
      "\u001b[1;36m  File \u001b[1;32m\"<ipython-input-19-f66f657d762e>\"\u001b[1;36m, line \u001b[1;32m42\u001b[0m\n\u001b[1;33m    Nwaves = 8,\u001b[0m\n\u001b[1;37m         ^\u001b[0m\n\u001b[1;31mSyntaxError\u001b[0m\u001b[1;31m:\u001b[0m invalid syntax\n"
     ]
    }
   ],
   "source": [
    "%tb\n",
    "\n",
    "\n",
    "RW = WT.RandomWaves(Tp,\n",
    "                 Hs,\n",
    "                 mwl,\n",
    "                 depth,\n",
    "                 waveDir,\n",
    "                 g,\n",
    "                 N,\n",
    "                 bandFactor,\n",
    "                 spectName,\n",
    "                 spectral_params,\n",
    "                 phi\n",
    "                )\n",
    "nperiod = 80\n",
    "npoints = 25\n",
    "n = npoints * nperiod\n",
    "tnlist=np.linspace(0,nperiod*Tp,n)\n",
    "xlist=np.zeros((25,3),)\n",
    "xlist[:,0]=np.linspace(0,5,25)\n",
    "Lgen =np.array([0,0.,0.])\n",
    "\n",
    "\n",
    "\n",
    "RW_Fast = WT.RandomWavesFast(tnlist[0],\n",
    "                            tnlist[-1],\n",
    "                            xlist[0],\n",
    "                            Tp,\n",
    "                            Hs,\n",
    "                            mwl,#m significant wave height\n",
    "                            depth , #m depth\n",
    "                            waveDir,\n",
    "                            g, #peak frequency\n",
    "                            N,\n",
    "                            bandFactor, #accelerationof gravity\n",
    "                            spectName ,# random words will result in error and return the available spectra\n",
    "                            spectral_params, #JONPARAMS = {\"gamma\": 3.3, \"TMA\":True,\"depth\": depth}\n",
    "                            phi,\n",
    "                            Lgen = Lgen,\n",
    "                            Nfreq = 16,\n",
    "                            Nwaves = 8,\n",
    "                            checkAcc = False)\n"
   ]
  },
  {
   "cell_type": "code",
   "execution_count": 33,
   "metadata": {
    "collapsed": false
   },
   "outputs": [
    {
     "name": "stdout",
     "output_type": "stream",
     "text": [
      "{'Tlag': 0.0, 'TOverlap': 10.275229357798162, 'TWindow': 14.678899082568805}\n"
     ]
    }
   ],
   "source": [
    "wind = RW_Fast.windOut()\n",
    "print wind\n",
    "\n",
    "x = xlist[0]\n",
    "\n",
    "series = RW.writeEtaSeries(tnlist[0],tnlist[-1],x,\"test.txt\",4.*Lgen)\n",
    "\n",
    "tnlist = series[:,0] \n",
    "eta_t = np.zeros(len(tnlist),)\n",
    "\n",
    "\n",
    "t1  =-time.clock()\n",
    "for i in range(len(tnlist)):\n",
    "    t = tnlist[i]\n",
    "    eta_t[i] = RW.eta(x, t)\n",
    "t1 = t1 + time.clock()\n",
    "\n",
    "eta_ts = eta_t.copy()\n",
    "\n",
    "#Calculating time series\n",
    "t2 = -time.clock()\n",
    "for i in range(len(tnlist)):\n",
    "    t = tnlist[i]\n",
    "    eta_ts[i] = RW_Fast.eta(x, t)\n",
    "t2 = t2 +  time.clock()\n",
    "\n",
    "\n"
   ]
  },
  {
   "cell_type": "markdown",
   "metadata": {},
   "source": [
    "Next, we compare the two generated time series in terms of data and execution time"
   ]
  },
  {
   "cell_type": "code",
   "execution_count": 34,
   "metadata": {
    "collapsed": false
   },
   "outputs": [
    {
     "name": "stdout",
     "output_type": "stream",
     "text": [
      "0.0143207948078\n",
      "25.257726254\n"
     ]
    },
    {
     "data": {
      "image/png": "[encoded data removed]",
      "text/plain": [
       "<matplotlib.figure.Figure at 0x6b99da0>"
      ]
     },
     "metadata": {},
     "output_type": "display_data"
    }
   ],
   "source": [
    "#Plotting both time series from time series file and wave class\n",
    "ii = np.where(tnlist>0)[0][0]\n",
    "jj=np.where(tnlist>150)[0][0]\n",
    "\n",
    "psize = 20\n",
    "import time, sys\n",
    "from IPython.display import clear_output\n",
    "\n",
    "print(max(eta_t[ii:jj]-eta_ts[ii:jj]))/Hs\n",
    "\n",
    "plt.figure(0, figsize=(10,3), dpi=300)\n",
    "plt.grid()\n",
    "plt.plot(tnlist, eta_t[:], color='black', label=\"RandomWaves\")\n",
    "plt.plot(tnlist, eta_ts[:], \"k--\", label=\"RandomWavesFast\")\n",
    "plt.ylim(-0.1,0.1)\n",
    "plt.xlabel(\"t (m)\", fontsize = psize)\n",
    "plt.ylabel(\"$\\eta$ (m)\",fontsize = psize)\n",
    "dur = series[-1,0]-series[0,0]\n",
    "cut =2*Tp\n",
    "\n",
    "plt.xlim(140,series[-1,0]-cut)   \n",
    "    \n",
    "print t1/t2"
   ]
  },
  {
   "cell_type": "code",
   "execution_count": null,
   "metadata": {
    "collapsed": true
   },
   "outputs": [],
   "source": []
  },
  {
   "cell_type": "code",
   "execution_count": null,
   "metadata": {
    "collapsed": false
   },
   "outputs": [],
   "source": [
    "a\n",
    "a\n",
    "a\n",
    "a\n",
    "a\n",
    "\n",
    "a\n",
    "a\n",
    "a\n",
    "a\n",
    "a\n",
    "a\n",
    "\n",
    "a\n",
    "a\n",
    "a\n",
    "a\n",
    "\n",
    "a\n",
    "a\n",
    "a\n",
    "a\n",
    "a"
   ]
  }
 ],
 "metadata": {
  "kernelspec": {
   "display_name": "Python 2",
   "language": "python",
   "name": "python2"
  },
  "language_info": {
   "codemirror_mode": {
    "name": "ipython",
    "version": 2
   },
   "file_extension": ".py",
   "mimetype": "text/x-python",
   "name": "python",
   "nbconvert_exporter": "python",
   "pygments_lexer": "ipython2",
   "version": "2.7.11"
  }
 },
 "nbformat": 4,
 "nbformat_minor": 0
}
