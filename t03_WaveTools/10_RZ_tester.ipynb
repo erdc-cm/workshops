{
 "cells": [
  {
   "cell_type": "markdown",
   "metadata": {},
   "source": [
    "Using RandomWavesFast class\n",
    "====================================================\n",
    "\n",
    "In this notebook, we describe how we can generate random waves in an optimised manner using the RandomWavesFast. We load the RandomWaves and RandomWavesFast class for generating the same wave field time series, using 2000 frequencies for both classes and subsequently we generate the free surface elevation and / or velocities using both classes. We check the fidelity of the reconstruction and we compare computational times.  "
   ]
  },
  {
   "cell_type": "code",
   "execution_count": 1,
   "metadata": {
    "collapsed": false
   },
   "outputs": [],
   "source": [
    "%matplotlib inline\n",
    "from matplotlib import pyplot as plt\n",
    "import matplotlib.animation as animation\n",
    "import numpy as np\n",
    "import sys\n",
    "#Append path of local proteus installation\n",
    "sys.path.append(\"D:/Work/My repos/proteus/\")\n",
    "sys.path.append(\"D:/Work/My repos/proteus/proteus\")\n",
    "\n",
    "#The notebook will work with the following commit:\n",
    "#https://github.com/erdc-cm/proteus/commit/9bb34b3563b5ddab6cb1dd9f75173da2710d2a41\n",
    "import imp\n",
    "WT = imp.load_source('WaveTools', 'D:/Work/My repos/proteus/proteus/WaveTools.py')\n",
    "import time \n",
    "#from proteus import WaveTools as WT\n",
    "\n",
    "Tp = 2.\n",
    "Hs = 0.05\n",
    "mwl = 1.\n",
    "depth = 1.\n",
    "g = np.array([0., -9.81, 0])\n",
    "N = 500\n",
    "bandFactor = 2.\n",
    "spectName = \"JONSWAP\"\n",
    "spectral_params = None\n",
    "waveDir = np.array([1., 0., 0.])\n",
    "\n",
    "phi = 2.0*3.14159*np.random.random(N)\n"
   ]
  },
  {
   "cell_type": "markdown",
   "metadata": {},
   "source": [
    "Calling RandomWaves and RandomWavesFast class to generate the free surface elevation and velocities"
   ]
  },
  {
   "cell_type": "code",
   "execution_count": 2,
   "metadata": {
    "collapsed": false
   },
   "outputs": [
    {
     "name": "stderr",
     "output_type": "stream",
     "text": [
      "No traceback available to show.\n",
      "D:/Work/My repos/proteus/proteus/WaveTools.py:470: FutureWarning: comparison to `None` will result in an elementwise object comparison in the future.\n",
      "  if phi == None:\n"
     ]
    }
   ],
   "source": [
    "%tb\n",
    "\n",
    "\n",
    "RW = WT.RandomWaves(Tp,\n",
    "                 Hs,\n",
    "                 mwl,\n",
    "                 depth,\n",
    "                 waveDir,\n",
    "                 g,\n",
    "                 N,\n",
    "                 bandFactor,\n",
    "                 spectName,\n",
    "                 spectral_params,\n",
    "                 phi\n",
    "                )\n",
    "nperiod = 25\n",
    "npoints = 25\n",
    "n = npoints * nperiod\n",
    "tnlist=np.linspace(0,nperiod*Tp,n)\n",
    "xlist=np.zeros((25,3),)\n",
    "xlist[:,0]=np.linspace(0,5,25)\n",
    "Lgen =np.array([5.,0.,0.])\n",
    "\n",
    "\n",
    "\n",
    "RW_Fast = WT.RandomWavesFast(tnlist[0],\n",
    "                            500,\n",
    "                            xlist[0],\n",
    "                            Tp,\n",
    "                            Hs,\n",
    "                            mwl,#m significant wave height\n",
    "                            depth , #m depth\n",
    "                            waveDir,\n",
    "                            g, #peak frequency\n",
    "                            N,\n",
    "                            bandFactor, #accelerationof gravity\n",
    "                            spectName ,# random words will result in error and return the available spectra\n",
    "                            spectral_params, #JONPARAMS = {\"gamma\": 3.3, \"TMA\":True,\"depth\": depth}\n",
    "                            phi,\n",
    "                            Lgen = Lgen,\n",
    "                            Nfreq = 32,\n",
    "                            Nwaves = 14)"
   ]
  },
  {
   "cell_type": "code",
   "execution_count": 90,
   "metadata": {
    "collapsed": false
   },
   "outputs": [
    {
     "name": "stdout",
     "output_type": "stream",
     "text": [
      "{'Tlag': 3.9777680975167509, 'TOverlap': 18.038820722526051, 'TWindow': 25.769743889322932}\n",
      "25.7697438893\n",
      "18.0388207225\n",
      "3.97776809752\n"
     ]
    }
   ],
   "source": [
    "wind = RW_Fast.windOut()\n",
    "print wind\n",
    "print wind[\"TWindow\"]\n",
    "print wind[\"TOverlap\"]\n",
    "print wind[\"Tlag\"]\n",
    "\n",
    "eta_t = np.zeros((len(tnlist),len(xlist)),)\n",
    "\n",
    "\n",
    "t1  =-time.clock()\n",
    "for j in range(len(xlist)):\n",
    "    for i in range(len(tnlist)):\n",
    "        t = tnlist[i]\n",
    "        x = xlist[j]\n",
    "        eta_t[i,j] = RW.eta(x, t)\n",
    "t1 = t1 + time.clock()\n",
    "\n",
    "eta_ts = eta_t.copy()\n",
    "\n",
    "#Calculating time series\n",
    "t2 = -time.clock()\n",
    "for j in range(len(xlist)):\n",
    "    for i in range(len(tnlist)):\n",
    "        t = tnlist[i]\n",
    "        x = xlist[j]\n",
    "        eta_ts[i,j] = RW_Fast.eta(x, t)\n",
    "t2 = t2 +  time.clock()\n",
    "\n",
    "\n"
   ]
  },
  {
   "cell_type": "markdown",
   "metadata": {},
   "source": [
    "Next, we compare the two generated time series in terms of data and execution time"
   ]
  },
  {
   "cell_type": "code",
   "execution_count": 91,
   "metadata": {
    "collapsed": false
   },
   "outputs": [
    {
     "name": "stdout",
     "output_type": "stream",
     "text": [
      "0.0232049690001\n",
      "0.0480848099342\n"
     ]
    },
    {
     "data": {
      "image/png": "[encoded data removed]",
      "text/plain": [
       "<matplotlib.figure.Figure at 0x6c96080>"
      ]
     },
     "metadata": {},
     "output_type": "display_data"
    },
    {
     "name": "stdout",
     "output_type": "stream",
     "text": [
      "14.0556192476\n"
     ]
    }
   ],
   "source": [
    "#Plotting both time series from time series file and wave class\n",
    "ii = np.where(tnlist>11)[0][0]\n",
    "psize = 20\n",
    "import time, sys\n",
    "from IPython.display import clear_output\n",
    "aa = 0.\n",
    "bb =0.\n",
    "for i in range(0,len(tnlist),1):\n",
    "    err = (eta_t[i,:] - eta_ts[i,:])**2/len(eta_t)\n",
    "    err2 = max(abs(eta_t[i,:] - eta_ts[i,:]))\n",
    "    bb = max(err2,bb)\n",
    "    err = sum(np.sqrt(err))\n",
    "    aa = max(err,aa)\n",
    "\n",
    "maxa = abs(eta_t - eta_ts)\n",
    "ik,j = np.unravel_index(maxa.argmax(), maxa.shape)\n",
    "plt.figure(0, figsize=(10,3), dpi=300)\n",
    "plt.grid()\n",
    "plt.plot(xlist[:,0], eta_t[ik,:], color='black', label=\"RandomWaves\")\n",
    "plt.plot(xlist[:,0], eta_ts[ik,:], \"k--\", label=\"RandomWavesFast\")\n",
    "plt.ylim(-0.1,0.1)\n",
    "plt.title(\"t=\"+str(tnlist[ik])+\" s\")\n",
    "plt.xlabel(\"x (m)\", fontsize = psize)\n",
    "plt.ylabel(\"$\\eta$ (m)\",fontsize = psize)\n",
    "plt.savefig(\"Freesurface2\"+str(wind[\"TOverlap\"]/(wind[\"TWindow\"]))+\".pdf\" )  \n",
    "    \n",
    "print aa\n",
    "print bb\n",
    "plt.show()\n",
    "    \n",
    "print t1/t2"
   ]
  },
  {
   "cell_type": "code",
   "execution_count": null,
   "metadata": {
    "collapsed": true
   },
   "outputs": [],
   "source": []
  },
  {
   "cell_type": "code",
   "execution_count": null,
   "metadata": {
    "collapsed": false
   },
   "outputs": [],
   "source": [
    "a\n",
    "a\n",
    "a\n",
    "a\n",
    "a\n",
    "\n",
    "a\n",
    "a\n",
    "a\n",
    "a\n",
    "a\n",
    "a\n",
    "\n",
    "a\n",
    "a\n",
    "a\n",
    "a\n",
    "\n",
    "a\n",
    "a\n",
    "a\n",
    "a\n",
    "a"
   ]
  }
 ],
 "metadata": {
  "kernelspec": {
   "display_name": "Python 2",
   "language": "python",
   "name": "python2"
  },
  "language_info": {
   "codemirror_mode": {
    "name": "ipython",
    "version": 2
   },
   "file_extension": ".py",
   "mimetype": "text/x-python",
   "name": "python",
   "nbconvert_exporter": "python",
   "pygments_lexer": "ipython2",
   "version": "2.7.11"
  }
 },
 "nbformat": 4,
 "nbformat_minor": 0
}
