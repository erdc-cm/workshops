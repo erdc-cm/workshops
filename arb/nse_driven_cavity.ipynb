{
 "cells": [
  {
   "cell_type": "markdown",
   "metadata": {},
   "source": [
    "### Introduction - Navier-Stokes driven cavity problem with PETSc in Proteus.\n",
    "\n",
    "\n",
    "This notebook illustrates how to setup, solve and visualize a steady-state Navier-Stokes driven-cavity problem in Proteus using solver tools from the PETSc linear algebra library.\n",
    "\n",
    "\n",
    "The driven-cavity problem is a standard benchmark for modeling Stokes and Navier-Stokes equations.  The simulation models a self-contained (that is no inflow or outflow) tank of fluid with an external force generating a velocity along the top of the tank.  For example, one could imagine a fan blowing over the top of an open fish tank full of water, causing water at the tank's surface to have some non-trivial velocity. A deeper discussion of this problem can be found in \"Finite Elements and Faster Iterative Solvers\" by Elman, Silvester and Wathen.\n",
    "\n",
    "\n",
    "The governing equations for our problem are the Navier-Stokes equations which we present in non-dimensional form.  Let $p: \\Omega \\rightarrow \\mathbf{R}$, $\\mathbf{v}:\\Omega \\rightarrow \\mathbf{R} \\times \\mathbf{R}^n$ denote the unknown pressure and velocity of the system.  The Navier-Stokes equation relate these quantities through\n",
    "$$\n",
    "\\nabla \\cdot \\mathbf{v}  = 0 \n",
    "$$\n",
    "$$\n",
    "- \\dfrac{1}{Re} \\nabla \\cdot (\\nabla \\mathbf{v}) + \\mathbf{v} \\cdot \\nabla \\mathbf{v} + \\nabla p = \\mathbf{f},\n",
    "$$\n",
    "where $Re$ is the Reynolds number and $\\mathbf{f}$ is an external force.  As $Re$ increases, the non-linear convection term becomes more dominate to the system's behavior while as $Re$ decreases the the diffusion term will become more important to the system's behavior.  In many real world problems, $Re$ assumes a very large value, which results in a convection dominated system that is very challenging to solve numerically.\n",
    "\n",
    "In this example, we are interested in solving this system for $Re$ up to 1000.\n",
    "\n",
    "Our domain of interest is a 2D square tank\n",
    "$$\n",
    "\\Omega = [-1,1]^{2}\n",
    "$$\n",
    " with Dirichlet boundary conditons\n",
    "$$\n",
    "\\mathbf{v} = \\begin{pmatrix} 1 \\\\ 0 \\end{pmatrix} \\text{ for } \\Gamma_{\\text{top}}\n",
    "$$\n",
    "and\n",
    "$$\n",
    "\\mathbf{v} = \\begin{pmatrix} 0 \\\\ 0 \\end{pmatrix} \\text{ for } \\Gamma_{\\text{bottom}}, \\Gamma_{\\text{right}}, \\Gamma_{\\text{left}}.\n",
    "$$\n"
   ]
  },
  {
   "cell_type": "markdown",
   "metadata": {},
   "source": [
    "### Initialze Proteus Library\n",
    "\n",
    "This first block loads and initialzes the libraries required to run the simulation.  numpy and petsc4py are external libraries that will allow support various linear algebra operations.  The proteus.iproteus command loads the interacitve proteus library.\n",
    "\n",
    "The profiling commands enable output allowing us to track the progress of our simulation.  Increasing the log level will display more output."
   ]
  },
  {
   "cell_type": "code",
   "execution_count": 14,
   "metadata": {
    "collapsed": false
   },
   "outputs": [],
   "source": [
    "import numpy as np\n",
    "import petsc4py as petsc4py\n",
    "from proteus.iproteus import * \n",
    "\n",
    "Profiling.logLevel = 3\n",
    "Profiling.verbose = True"
   ]
  },
  {
   "cell_type": "markdown",
   "metadata": {
    "collapsed": true
   },
   "source": [
    "### Boundary Conditions\n",
    "\n",
    "Boundary conditions are an important part of any numeric PDE solver.  In the next block of code we define two functions that will help use to specify problems boundary conditions. \n",
    "\n",
    "You may have noticed the strange structure of the uTrue boundary condition.  In this example we will use a Newton Interation to solve the Navier-Stokes system.  As is well known, Newton iterations exhibit rapid quadratic convergence, but only if the initial guess is sufficiently close to the solution.  For Navier-Stokes problems, as the Reynolds number increases, this convergence ball gets smaller and smaller.\n",
    "\n",
    "To solve a driven cavity problem with $Re=1000$, it is not enough to start with an initial guess of 0.  Instead, we solve a sequence of NS problems with increasing $Re$, using the solution of the previous iteration as the initial guess for a new problem with a larger $Re$ number.  One way of accomplishing this in Proteus is to treat each successive solve as a time-step.\n",
    "\n",
    "Another point to consider is that since we are only specifying Dirichlet conditions, the systems pressure will only be solveable up to a constant.  This means that the linear system we are interested in solving will have a non-trivial null space.  In this tutorial, we won't focus on this issue, rather than mention that the linear solvers deal with this null space 'under-the-hood'."
   ]
  },
  {
   "cell_type": "code",
   "execution_count": 15,
   "metadata": {
    "collapsed": true
   },
   "outputs": [],
   "source": [
    "\n",
    "class uTrue:\n",
    "    def __init__(self):\n",
    "        pass\n",
    "    def uOfX(self,x):\n",
    "        return 1.\n",
    "    def uOfXT(self,x,t):\n",
    "        return 10.0**max(0.0,t-1.0)\n",
    "        \n",
    "class vTrue:\n",
    "    def __init__(self):\n",
    "        pass\n",
    "    def vOfX(self,x):\n",
    "        return 0.\n",
    "    def vOfXT(self,x,t):\n",
    "        return self.vOfX(x)\n"
   ]
  },
  {
   "cell_type": "markdown",
   "metadata": {},
   "source": [
    "### The Proteus Phliosophy\n",
    "\n",
    "Next we start getting into the particulars of setting up a simulation in Proteus.\n",
    "\n",
    "Before proceeding, it is worth noting that Proteus aims to seperate the physics and the numerics of a problem as much as possible to help researchers focus on the specific features of their problem. "
   ]
  },
  {
   "cell_type": "markdown",
   "metadata": {},
   "source": [
    "### Define the Physics\n",
    "\n",
    "The first step in defining a problem's physics is to initialize our physics to default_p.  default_p is a collection of default values for the various physics parameters the Proteus solver expects.  After initializing default_p below, we override many of the defaults to build the driven cavity NS problem we are interested in solving.  See the inline comments for details.\n"
   ]
  },
  {
   "cell_type": "code",
   "execution_count": 16,
   "metadata": {
    "collapsed": false
   },
   "outputs": [],
   "source": [
    "physics = default_p\n",
    "physics.name = \"nse_driven_cavity\"\n",
    "\n",
    "# this specifies the problem's dimension\n",
    "physics.nd = 2\n",
    "\n",
    "# There are several ways to specify a mesh in Proteus.  Perhaps the eaiset is to initialize\n",
    "# a coordinate for the bottom left corner of the mesh (.x0) and the length of each coordinate\n",
    "# axis (.L).\n",
    "# Thus, the commands below creates a mesh with length 1 in the x and y direction with its bottom \n",
    "# left corner at the origin.\n",
    "physics.x0 = [-1.0,-1.0]\n",
    "physics.L = [2.0,2.0]\n",
    "\n",
    "# Here we specify the simulation coefficients will come from a NavierStokes problem.  To illustrate\n",
    "# its construction, the construction of this class is shown above.  Note that the Proteus library has\n",
    "# prewritten classes for most common physics problems.\n",
    "physics.coefficients = TransportCoefficients.TwophaseNavierStokes_ST_LS_SO(epsFact=0.0,\n",
    "                                                                           sigma=0.0,\n",
    "                                                                           rho_0=1.0,\n",
    "                                                                           nu_0=1.0,\n",
    "                                                                           rho_1=1.0,\n",
    "                                                                           nu_1=1.0,\n",
    "                                                                           g=[0.0,0.0],\n",
    "                                                                           nd=2,\n",
    "                                                                           LS_model=None,\n",
    "                                                                           KN_model=None,\n",
    "                                                                           epsFact_density=None,\n",
    "                                                                           stokes=False);\n",
    "\n",
    "# Next we define functions for our problems boundary conditions.  Note that these functions\n",
    "# refer to the earlier boundary condition functions and are not memebers of the the physics class.\n",
    "def top(x,flag):\n",
    "    if x[1]== physics.x0[1]+physics.L[1]:\n",
    "        return True\n",
    "    else:\n",
    "        return False\n",
    "\n",
    "def sides(x,flag):\n",
    "    if (x[0]==physics.x0[0] or x[0]==(physics.x0[0]+physics.L[0])):\n",
    "        return True\n",
    "    else:\n",
    "        return False\n",
    "\n",
    "def bottom(x,flag):\n",
    "    if (x[1] == physics.x0[1]):\n",
    "        return True\n",
    "    else:\n",
    "        return False\n",
    "        \n",
    "def getDBCp(x,flag):\n",
    "    pass\n",
    "\n",
    "def getDBCu(x,flag):\n",
    "    if sides(x,flag) or bottom(x,flag):\n",
    "        return lambda x,t: 0.0\n",
    "    elif top(x,flag):\n",
    "        return lambda x,t: uTrue().uOfXT(x,t)\n",
    "\n",
    "def getDBCv(x,flag):\n",
    "    if (top(x,flag) or sides(x,flag) or bottom(x,flag)):\n",
    "        return lambda x,t: 0.0\n",
    "\n",
    "def getAdvFluxBCp(x,flag):\n",
    "    pass\n",
    "    \n",
    "def getAdvFluxBCu(x,flag):\n",
    "    pass\n",
    "\n",
    "def getAdvFluxBCv(x,flag):\n",
    "    pass\n",
    "    \n",
    "# Here we attach the boundary condition functions written above to Proteus' physics class.  For this\n",
    "# problem, the boundary conditions are fully specified by the Dirichlet conditions along the boundary.\n",
    "# The boundary conditions corresponding to the advectiveFlux and pressure are just place holders.\n",
    "physics.dirichletConditions = {0:getDBCp, 1:getDBCu, 2:getDBCv}\n",
    "physics.advectiveFluxBoundaryConditions = {0:getAdvFluxBCp,1:getAdvFluxBCu,2:getAdvFluxBCv}"
   ]
  },
  {
   "cell_type": "markdown",
   "metadata": {
    "collapsed": true
   },
   "source": [
    "### Define the Numerics\n",
    "\n",
    "As with the phyiscs, we load default_n to initialize the numerics.\n",
    "\n",
    "Following the initialization, we specify information on the: Mesh, FE Space and Linear Algebra and Solver Options.\n",
    "\n",
    "**Mesh**\n",
    "\n",
    "While the dimensions and location of the domain are speicified as part of the simulation's physics, aspects of the refinment are speicifed as part of the simulation's numerics.  In this example, we specify the number of nodes on each coordinate axis of the mesh.  While other mesh options are avaliable, these will be demonstrated in other tutorials.\n",
    "\n",
    "**FE Space**\n",
    "\n",
    "Proteus supports several choices of finite elements to solve Stokes and Navier-Stokes problems.  In this example we illustrate how to specify Taylor-Hood (TH, TH_Quads) and stablized linear elements (C0P1C0P1, C0Q1C0Q1) on triangular and quadrilateral meshes.\n",
    "\n",
    "**Linear Algebra and Solver Options**\n",
    "\n",
    "We start with the non-linear solver.  (Note - Proteus currently only supports a Newton Iteration for the non-linear solver type but in the future users will be able to select a Picard Iteration as well.)  Users need to select the maximum non-linear iterations and line searches for the Newton Iteration.  In general, these values should not be too high as excessive iterations usual indicate the scheme is failing to converge.\n",
    "\n",
    "Next specify the linear solver.  The first choice is whether to solve the system using a direct or iterative method.  If possible, when first running a simulation, it is usually a good idea to start with a direct solver (of course, many simulations will be too large for a direct solver).  This will allow us to check that the non-linear solver is converging properly.\n",
    "\n",
    "After verifying everything is working with the non-linear solver, we can start experimenting with iterative solvers. In this tutorial, we will show how to use PETSc's flexible-gmres Krylov solver. \n",
    "\n",
    "High Reynolds number NS problems are notoriously difficult to solve with iterative solvers because of their poor conditioning.  Indeed, effective preconditioning for these problems remains an active field of research in numerical analysis.  One of the most effective preconditioning strategies is the Schur Complement, which takes advantage the block structure arising from the problem's physics to first solve for the pressure unknowns.  Once the pressure is known, it is a relatively easy to solve for the velocity.\n",
    "\n",
    "In the script below, we specify a PETSc iterative solver (see the ksp_type option) and preconditioner (see the pc_type option) usingthe PETSc4py tool.  In the LinearSolvers.NavierStokes2D, Proteus specifies which unknowns correspond to velcoity and pressure.  This allows us to further specify a solver and preconditioner for the velocity block.\n",
    "\n",
    "A full descirption of the Schur complement is beyond the scope of this tutorial, but there are many excellent resources avaliable including the text \"Finite Elements and Faster Iterative Solvers\" by Elman, Silvester and Wathen.  One comment we will make is that the built in preconditioners avaliable through PETSc (for example selfP) are not terribly effective for solving the Schur block for high Reynolds number NSE.  In these cases more effective Schur approximations and preconditioners are needed. \n",
    "\n",
    "**Numerical Flux Options**\n",
    "\n",
    "Finally, the problem's boundary conditions can also be enforced using a penalty method (see the paper Unified Analysis of Discontinuous Galerkin Methods For Elliptical Problems).  This option is set as part of the problems numerics using the numericalFluxType flag.  When the solver is set to iterative, Proteus requires the numericaFluxType be set in order for the degrees of freedom to interface with PETSc correctly."
   ]
  },
  {
   "cell_type": "code",
   "execution_count": 17,
   "metadata": {
    "collapsed": false
   },
   "outputs": [],
   "source": [
    "numerics = default_n\n",
    "\n",
    "# ******* MESH ********\n",
    "# this specifies the number of mesh nodes in the x and y directions \n",
    "numerics.nn = 71\n",
    "\n",
    "# ******* FE SPACE *********\n",
    "# these options specify the finite element space used to approximate the solution\n",
    "\n",
    "numeric_scheme = \"TH_Quads\" #Options: TH, C0P1C0P1, TH_Quads, C0Q1C0Q1\n",
    "\n",
    "if numeric_scheme == \"TH\":\n",
    "    numerics.femSpaces = {0:FemTools.P1, #pressure space\n",
    "                          1:FemTools.P2,\n",
    "                          2:FemTools.P2}  #velocity space\n",
    "\n",
    "elif numeric_scheme == \"C0P1C0P1\":\n",
    "    numerics.femSpaces = {0:FemTools.P1,\n",
    "                          1:FemTools.P1,\n",
    "                          2:FemTools.P1}\n",
    "    numerics.subgridError = SubgridError.NavierStokesASGS_velocity_pressure(physics.coefficients,physics.nd,lag=False)\n",
    "\n",
    "elif numeric_scheme == \"TH_Quads\":\n",
    "    numerics.femSpaces = {0:FemTools.Q1,\n",
    "                          1:FemTools.Q2,\n",
    "                          2:FemTools.Q2}\n",
    "    \n",
    "elif numeric_scheme == \"C0Q1C0Q1\":\n",
    "    numerics.femSpaces = {0:FemTools.Q1,\n",
    "                          1:FemTools.Q1,\n",
    "                          2:FemTools.Q1}\n",
    "    subgridError = SubgridError.NavierStokesASGS_velocity_pressure(physics.coefficients,physics.nd,lag=False)\n",
    "    \n",
    "else:\n",
    "    assert 0, 'Invalid element choice'\n",
    "    \n",
    "if numeric_scheme == \"TH\" or numeric_scheme == \"C0P1C0P1\":\n",
    "    numerics.elementQuadrature = Quadrature.SimplexGaussQuadrature(physics.nd,4)\n",
    "    numerics.elementBoundaryQuadrature = Quadrature.SimplexGaussQuadrature(physics.nd-1,4)\n",
    "\n",
    "elif numeric_scheme == \"C0Q1C0Q1\" or numeric_scheme == \"TH_Quads\":\n",
    "    numerics.quad = True\n",
    "    numerics.elementQuadrature = Quadrature.CubeGaussQuadrature(physics.nd,4)\n",
    "    numerics.elementBoundaryQuadrature = Quadrature.CubeGaussQuadrature(physics.nd-1,4)\n",
    "\n",
    "    \n",
    "# ******** LINEAR ALGEBRA AND SOLVER OPTIONS ********\n",
    "    \n",
    "numerics.matrix = LinearAlgebraTools.SparseMatrix\n",
    "\n",
    "numerics.multilevelNonlinearSolver = NonlinearSolvers.Newton\n",
    "numerics.levelNonlinearSolver = NonlinearSolvers.Newton\n",
    "numerics.maxNonlinearIts = 15\n",
    "numerics.maxLineSearches = 10\n",
    "\n",
    "numerics.linearSmoother = LinearSolvers.NavierStokes2D\n",
    "numerics.l_atol_res = 1.0e-4\n",
    "numerics.nl_atol_res = 1.0e-8\n",
    "\n",
    "solveIteratively = True\n",
    "iterativeSolver = 'schur'  # options: 'schur'\n",
    "# NOTE - so far the schur complement preconditioner is not good enough to solve the Re=1000 problem in a reasonable\n",
    "# amount of time.\n",
    "\n",
    "if solveIteratively:\n",
    "    numerics.multilevelLinearSolver = LinearSolvers.KSP_petsc4py\n",
    "    numerics.levelLinearSolver = LinearSolvers.KSP_petsc4py\n",
    "    if iterativeSolver == 'schur':\n",
    "        petsc4py.PETSc.Options().setValue(\"ksp_type\",\"fgmres\")\n",
    "        petsc4py.PETSc.Options().setValue(\"pc_type\",\"fieldsplit\")\n",
    "        petsc4py.PETSc.Options().setValue(\"pc_fieldsplit_type\",\"schur\")\n",
    "        petsc4py.PETSc.Options().setValue(\"pc_fieldsplit_precondition\",\"selfp\")\n",
    "        petsc4py.PETSc.Options().setValue(\"pc_fieldsplit_schur_fact_type\",\"full\")\n",
    "        petsc4py.PETSc.Options().setValue(\"pc_fieldsplit_detect_saddle_point\",\"\")\n",
    "        petsc4py.PETSc.Options().setValue(\"fieldsplit_velocity_ksp_type\",\"preonly\")\n",
    "        petsc4py.PETSc.Options().setValue(\"fieldsplit_velocity_pc_type\",\"lu\")\n",
    "#        petsc4py.PETSc.Options().setValue(\"fieldsplit_pressure_ksp_monitor_true_residual\",\"\")\n",
    "    numerics.numericalFluxType = NumericalFlux.NavierStokes_Advection_DiagonalUpwind_Diffusion_IIPG_exterior\n",
    "else:\n",
    "    numerics.multilevelLinearSolver = LinearSolvers.LU\n",
    "    numerics.levelLinearSolver = LinearSolvers.LU\n",
    "    numerics.numericalFluxType = None"
   ]
  },
  {
   "cell_type": "markdown",
   "metadata": {},
   "source": [
    "### Initialize SO"
   ]
  },
  {
   "cell_type": "code",
   "execution_count": 18,
   "metadata": {
    "collapsed": true
   },
   "outputs": [],
   "source": [
    "so = default_so\n",
    "so.name = physics.name\n",
    "so.sList = [default_s]\n",
    "so.tnList = np.linspace(0.0,3.5,10).tolist()"
   ]
  },
  {
   "cell_type": "markdown",
   "metadata": {},
   "source": [
    "### Solve the Problem"
   ]
  },
  {
   "cell_type": "code",
   "execution_count": 19,
   "metadata": {
    "collapsed": false
   },
   "outputs": [
    {
     "name": "stdout",
     "output_type": "stream",
     "text": [
      "[    2536] Initializing NumericalSolution for nse_driven_cavity\n",
      " System includes: \n",
      "nse_driven_cavity\n",
      "\n",
      "[    2536] Setting Archiver(s)\n",
      "[    2536] Setting up MultilevelMesh\n",
      "[    2536] Building one multilevel mesh for all models\n",
      "[    2536] Generating mesh for nse_driven_cavity\n",
      "[    2536] Building 71 x 71 rectangular mesh for nse_driven_cavity\n",
      "[    2545] Number of quadrilaterals  : 4900\n",
      "Number of edges : 9940\n",
      "Number of nodes : 5041\n",
      "\n",
      "[    2545] Number of quadrilaterals  : 4900\n",
      "Number of edges : 9940\n",
      "Number of nodes : 5041\n",
      "\n",
      "[    2545] Setting up MultilevelTransport for nse_driven_cavity\n",
      "[    2545] Building Transport for each mesh\n",
      "[    2545] Generating Trial Space\n",
      "[    2546] Generating Test Space\n",
      "[    2546] Allocating u\n",
      "[    2546] Allocating phi\n",
      "[    2547] Setting Boundary Conditions\n",
      "[    2547] Setting Boundary Conditions-1\n",
      "[    2547] Setting Boundary Conditions-2\n",
      "[    2547] Setting Boundary Conditions-2a\n",
      "[    2547] Setting Boundary Conditions-3\n",
      "[    2547] Setting Boundary Conditions-4\n",
      "[    2547] Initializing OneLevelTransport\n",
      "[    2547] Sparse diffusion information key (1, 1) = (array([0, 1, 2], dtype=int32), array([0, 1], dtype=int32))\n",
      "[    2547] Sparse diffusion information key (1, 2) = (array([0, 0, 1], dtype=int32), array([0], dtype=int32))\n",
      "[    2547] Sparse diffusion information key (2, 1) = (array([0, 1, 1], dtype=int32), array([1], dtype=int32))\n",
      "[    2547] Sparse diffusion information key (2, 2) = (array([0, 1, 2], dtype=int32), array([0, 1], dtype=int32))\n",
      "[    2547] Updating local to global mappings\n",
      "[    2548] Building time integration object\n",
      "[    2548] Calculating numerical quadrature formulas\n",
      "[    2548] Allocating residual and solution vectors\n",
      "[    2548] Allocating Jacobian\n",
      "[    2548] Building sparse matrix structure\n"
     ]
    },
    {
     "ename": "KeyboardInterrupt",
     "evalue": "",
     "output_type": "error",
     "traceback": [
      "\u001b[1;31m---------------------------------------------------------------------------\u001b[0m",
      "\u001b[1;31mKeyboardInterrupt\u001b[0m                         Traceback (most recent call last)",
      "\u001b[1;32m<ipython-input-19-e9b1e921524b>\u001b[0m in \u001b[0;36m<module>\u001b[1;34m()\u001b[0m\n\u001b[1;32m----> 1\u001b[1;33m \u001b[0mns\u001b[0m \u001b[1;33m=\u001b[0m \u001b[0mNumericalSolution\u001b[0m\u001b[1;33m.\u001b[0m\u001b[0mNS_base\u001b[0m\u001b[1;33m(\u001b[0m\u001b[0mso\u001b[0m\u001b[1;33m,\u001b[0m\u001b[1;33m[\u001b[0m\u001b[0mphysics\u001b[0m\u001b[1;33m]\u001b[0m\u001b[1;33m,\u001b[0m\u001b[1;33m[\u001b[0m\u001b[0mnumerics\u001b[0m\u001b[1;33m]\u001b[0m\u001b[1;33m,\u001b[0m\u001b[0mso\u001b[0m\u001b[1;33m.\u001b[0m\u001b[0msList\u001b[0m\u001b[1;33m,\u001b[0m\u001b[0mopts\u001b[0m\u001b[1;33m)\u001b[0m\u001b[1;33m\u001b[0m\u001b[0m\n\u001b[0m\u001b[0;32m      2\u001b[0m \u001b[0mns\u001b[0m\u001b[1;33m.\u001b[0m\u001b[0mcalculateSolution\u001b[0m\u001b[1;33m(\u001b[0m\u001b[1;34m'run1'\u001b[0m\u001b[1;33m)\u001b[0m\u001b[1;33m\u001b[0m\u001b[0m\n\u001b[0;32m      3\u001b[0m \u001b[1;33m\u001b[0m\u001b[0m\n\u001b[0;32m      4\u001b[0m \u001b[1;31m# save solution and grid data for plotting purposes\u001b[0m\u001b[1;33m\u001b[0m\u001b[1;33m\u001b[0m\u001b[0m\n\u001b[0;32m      5\u001b[0m \u001b[0mx\u001b[0m \u001b[1;33m=\u001b[0m \u001b[0mns\u001b[0m\u001b[1;33m.\u001b[0m\u001b[0mmodelList\u001b[0m\u001b[1;33m[\u001b[0m\u001b[1;36m0\u001b[0m\u001b[1;33m]\u001b[0m\u001b[1;33m.\u001b[0m\u001b[0mlevelModelList\u001b[0m\u001b[1;33m[\u001b[0m\u001b[1;33m-\u001b[0m\u001b[1;36m1\u001b[0m\u001b[1;33m]\u001b[0m\u001b[1;33m.\u001b[0m\u001b[0mmesh\u001b[0m\u001b[1;33m.\u001b[0m\u001b[0mnodeArray\u001b[0m\u001b[1;33m[\u001b[0m\u001b[1;33m:\u001b[0m\u001b[1;33m,\u001b[0m\u001b[1;36m0\u001b[0m\u001b[1;33m]\u001b[0m\u001b[1;33m\u001b[0m\u001b[0m\n",
      "\u001b[1;32m/home/alistair/proteus/proteus/NumericalSolution.pyc\u001b[0m in \u001b[0;36m__init__\u001b[1;34m(self, so, pList, nList, sList, opts, simFlagsList)\u001b[0m\n\u001b[0;32m    403\u001b[0m \u001b[1;33m\u001b[0m\u001b[0m\n\u001b[0;32m    404\u001b[0m             \u001b[0mlog\u001b[0m\u001b[1;33m(\u001b[0m\u001b[1;34m\"Setting up MultilevelTransport for \"\u001b[0m\u001b[1;33m+\u001b[0m\u001b[0mp\u001b[0m\u001b[1;33m.\u001b[0m\u001b[0mname\u001b[0m\u001b[1;33m)\u001b[0m\u001b[1;33m\u001b[0m\u001b[0m\n\u001b[1;32m--> 405\u001b[1;33m             \u001b[0mmodel\u001b[0m \u001b[1;33m=\u001b[0m \u001b[0mTransport\u001b[0m\u001b[1;33m.\u001b[0m\u001b[0mMultilevelTransport\u001b[0m\u001b[1;33m(\u001b[0m\u001b[0mp\u001b[0m\u001b[1;33m,\u001b[0m\u001b[0mn\u001b[0m\u001b[1;33m,\u001b[0m\u001b[0mmlMesh\u001b[0m\u001b[1;33m,\u001b[0m\u001b[0mOneLevelTransportType\u001b[0m\u001b[1;33m=\u001b[0m\u001b[0mp\u001b[0m\u001b[1;33m.\u001b[0m\u001b[0mLevelModelType\u001b[0m\u001b[1;33m)\u001b[0m\u001b[1;33m\u001b[0m\u001b[0m\n\u001b[0m\u001b[0;32m    406\u001b[0m             \u001b[0mself\u001b[0m\u001b[1;33m.\u001b[0m\u001b[0mmodelList\u001b[0m\u001b[1;33m.\u001b[0m\u001b[0mappend\u001b[0m\u001b[1;33m(\u001b[0m\u001b[0mmodel\u001b[0m\u001b[1;33m)\u001b[0m\u001b[1;33m\u001b[0m\u001b[0m\n\u001b[0;32m    407\u001b[0m             \u001b[0mmodel\u001b[0m\u001b[1;33m.\u001b[0m\u001b[0mname\u001b[0m \u001b[1;33m=\u001b[0m \u001b[0mp\u001b[0m\u001b[1;33m.\u001b[0m\u001b[0mname\u001b[0m\u001b[1;33m\u001b[0m\u001b[0m\n",
      "\u001b[1;32m/home/alistair/proteus/proteus/Transport.py\u001b[0m in \u001b[0;36m__init__\u001b[1;34m(self, problem, numerics, mlMesh, OneLevelTransportType)\u001b[0m\n\u001b[0;32m   6000\u001b[0m             \u001b[0mproblem\u001b[0m\u001b[1;33m.\u001b[0m\u001b[0msd\u001b[0m\u001b[1;33m,\u001b[0m\u001b[1;33m\u001b[0m\u001b[0m\n\u001b[0;32m   6001\u001b[0m             \u001b[0mproblem\u001b[0m\u001b[1;33m.\u001b[0m\u001b[0mmovingDomain\u001b[0m\u001b[1;33m,\u001b[0m\u001b[1;33m\u001b[0m\u001b[0m\n\u001b[1;32m-> 6002\u001b[1;33m             PhiSpaceTypeDict=phiSpaces)\n\u001b[0m\u001b[0;32m   6003\u001b[0m     def initialize(self,\n\u001b[0;32m   6004\u001b[0m                    \u001b[0mnd\u001b[0m\u001b[1;33m,\u001b[0m\u001b[1;33m\u001b[0m\u001b[0m\n",
      "\u001b[1;32m/home/alistair/proteus/proteus/Transport.py\u001b[0m in \u001b[0;36minitialize\u001b[1;34m(self, nd, mlMesh, TrialSpaceTypeDict, TestSpaceTypeDict, matType, dirichletConditionsSetterDict, coefficients, quadratureDict, elementBoundaryQuadratureDict, fluxBoundaryConditionsDict, advectiveFluxBoundaryConditionsSetterDict, diffusiveFluxBoundaryConditionsSetterDictDict, stressFluxBoundaryConditionsSetterDict, stabilization, shockCapturing, conservativeFlux, numericalFluxType, TimeIntegrationClass, massLumping, reactionLumping, weakDirichletConditions, options, useSparseDiffusion, movingDomain, PhiSpaceTypeDict)\u001b[0m\n\u001b[0;32m   6239\u001b[0m             \u001b[0mself\u001b[0m\u001b[1;33m.\u001b[0m\u001b[0mrList\u001b[0m\u001b[1;33m.\u001b[0m\u001b[0mappend\u001b[0m\u001b[1;33m(\u001b[0m\u001b[0mr\u001b[0m\u001b[1;33m)\u001b[0m\u001b[1;33m\u001b[0m\u001b[0m\n\u001b[0;32m   6240\u001b[0m             \u001b[0mlog\u001b[0m\u001b[1;33m(\u001b[0m\u001b[1;34m\"Allocating Jacobian\"\u001b[0m\u001b[1;33m,\u001b[0m\u001b[0mlevel\u001b[0m\u001b[1;33m=\u001b[0m\u001b[1;36m2\u001b[0m\u001b[1;33m)\u001b[0m\u001b[1;33m\u001b[0m\u001b[0m\n\u001b[1;32m-> 6241\u001b[1;33m             \u001b[0mjacobian\u001b[0m \u001b[1;33m=\u001b[0m \u001b[0mtransport\u001b[0m\u001b[1;33m.\u001b[0m\u001b[0minitializeJacobian\u001b[0m\u001b[1;33m(\u001b[0m\u001b[1;33m)\u001b[0m\u001b[1;33m\u001b[0m\u001b[0m\n\u001b[0m\u001b[0;32m   6242\u001b[0m             \u001b[0mself\u001b[0m\u001b[1;33m.\u001b[0m\u001b[0mjacobianList\u001b[0m\u001b[1;33m.\u001b[0m\u001b[0mappend\u001b[0m\u001b[1;33m(\u001b[0m\u001b[0mjacobian\u001b[0m\u001b[1;33m)\u001b[0m\u001b[1;33m\u001b[0m\u001b[0m\n\u001b[0;32m   6243\u001b[0m             \u001b[0mpar_bs\u001b[0m \u001b[1;33m=\u001b[0m \u001b[0mtransport\u001b[0m\u001b[1;33m.\u001b[0m\u001b[0mcoefficients\u001b[0m\u001b[1;33m.\u001b[0m\u001b[0mnc\u001b[0m\u001b[1;33m\u001b[0m\u001b[0m\n",
      "\u001b[1;32m/home/alistair/proteus/proteus/Transport.py\u001b[0m in \u001b[0;36minitializeJacobian\u001b[1;34m(self)\u001b[0m\n\u001b[0;32m   4467\u001b[0m                                                      \u001b[0mself\u001b[0m\u001b[1;33m.\u001b[0m\u001b[0mcsrColumnOffsets_eNebN\u001b[0m\u001b[1;33m[\u001b[0m\u001b[1;33m(\u001b[0m\u001b[0mci\u001b[0m\u001b[1;33m,\u001b[0m\u001b[0mcj\u001b[0m\u001b[1;33m)\u001b[0m\u001b[1;33m]\u001b[0m\u001b[1;33m,\u001b[0m\u001b[1;33m\u001b[0m\u001b[0m\n\u001b[0;32m   4468\u001b[0m                                                      \u001b[0mself\u001b[0m\u001b[1;33m.\u001b[0m\u001b[0mcsrColumnOffsets_eb\u001b[0m\u001b[1;33m[\u001b[0m\u001b[1;33m(\u001b[0m\u001b[0mci\u001b[0m\u001b[1;33m,\u001b[0m\u001b[0mcj\u001b[0m\u001b[1;33m)\u001b[0m\u001b[1;33m]\u001b[0m\u001b[1;33m,\u001b[0m\u001b[1;33m\u001b[0m\u001b[0m\n\u001b[1;32m-> 4469\u001b[1;33m                                                      self.csrColumnOffsets_eb_eNebN[(ci,cj)])\n\u001b[0m\u001b[0;32m   4470\u001b[0m                 \u001b[1;32melse\u001b[0m\u001b[1;33m:\u001b[0m\u001b[1;33m\u001b[0m\u001b[0m\n\u001b[0;32m   4471\u001b[0m                     \u001b[1;32mfor\u001b[0m \u001b[0meN\u001b[0m \u001b[1;32min\u001b[0m \u001b[0mrange\u001b[0m\u001b[1;33m(\u001b[0m\u001b[0mself\u001b[0m\u001b[1;33m.\u001b[0m\u001b[0mmesh\u001b[0m\u001b[1;33m.\u001b[0m\u001b[0mnElements_global\u001b[0m\u001b[1;33m)\u001b[0m\u001b[1;33m:\u001b[0m\u001b[1;33m\u001b[0m\u001b[0m\n",
      "\u001b[1;31mKeyboardInterrupt\u001b[0m: "
     ]
    }
   ],
   "source": [
    "ns = NumericalSolution.NS_base(so,[physics],[numerics],so.sList,opts)\n",
    "ns.calculateSolution('run1')\n",
    "\n",
    "# save solution and grid data for plotting purposes\n",
    "x = ns.modelList[0].levelModelList[-1].mesh.nodeArray[:,0]\n",
    "y = ns.modelList[0].levelModelList[-1].mesh.nodeArray[:,1]\n",
    "triangles = ns.modelList[0].levelModelList[-1].mesh.elementNodesArray\n",
    "p = ns.modelList[0].levelModelList[-1].u[0].dof\n",
    "u = ns.modelList[0].levelModelList[-1].u[1].dof\n",
    "v = ns.modelList[0].levelModelList[-1].u[2].dof\n",
    "\n",
    "num_DOF = ns.modelList[0].levelModelList[-1].u[1].femSpace.dofMap.lagrangeNodesArray.shape[0]\n",
    "\n",
    "if numeric_scheme == 'TH_Quads':\n",
    "    x_ref = np.zeros((num_DOF,))\n",
    "    y_ref = np.zeros((num_DOF,))\n",
    "    for dof_idx in range(num_DOF):\n",
    "        x_ref[dof_idx] = ns.modelList[0].levelModelList[-1].u[1].femSpace.dofMap.lagrangeNodesArray[dof_idx][0]\n",
    "        y_ref[dof_idx] = ns.modelList[0].levelModelList[-1].u[1].femSpace.dofMap.lagrangeNodesArray[dof_idx][1]"
   ]
  },
  {
   "cell_type": "markdown",
   "metadata": {},
   "source": [
    "### Visualize the Solution"
   ]
  },
  {
   "cell_type": "code",
   "execution_count": null,
   "metadata": {
    "collapsed": false
   },
   "outputs": [],
   "source": [
    "%pylab inline"
   ]
  },
  {
   "cell_type": "code",
   "execution_count": null,
   "metadata": {
    "collapsed": false,
    "scrolled": true
   },
   "outputs": [],
   "source": [
    "import matplotlib.pyplot as plt\n",
    "plt.clf()\n",
    "\n",
    "if numeric_scheme == 'TH' or numeric_scheme=='C0P1C0P1':\n",
    "    plt.tricontourf(x,y,triangles,u[:x.shape[0]])\n",
    "elif numeric_scheme == 'C0Q1C0Q1':\n",
    "    plt.tricontourf(x,y,u)\n",
    "elif numeric_scheme == 'TH_Quads':\n",
    "    plt.tricontourf(x_ref,y_ref,u)\n",
    "\n",
    "plt.xlabel('x'); plt.ylabel('y')\n",
    "plt.title('NSE Driven Cavity Solution Approximation'); plt.colorbar()\n",
    "plt.show()\n"
   ]
  },
  {
   "cell_type": "code",
   "execution_count": null,
   "metadata": {
    "collapsed": false
   },
   "outputs": [],
   "source": [
    "import matplotlib.pyplot as plt\n",
    "plt.clf()\n",
    "if numeric_scheme == 'TH' or numeric_scheme=='C0P1C0P1':\n",
    "    plt.tricontourf(x,y,triangles,v[:x.shape[0]])\n",
    "elif numeric_scheme == 'C0Q1C0Q1':\n",
    "    plt.tricontourf(x,y,v)\n",
    "elif numeric_scheme == 'TH_Quads':\n",
    "    plt.tricontourf(x_ref,y_ref,v)\n",
    "    \n",
    "plt.xlabel('x'); plt.ylabel('y')\n",
    "plt.title('NSE Driven Cavity Solution Approximation'); plt.colorbar()\n",
    "plt.show()"
   ]
  },
  {
   "cell_type": "code",
   "execution_count": null,
   "metadata": {
    "collapsed": false
   },
   "outputs": [],
   "source": [
    "import matplotlib.pyplot as plt\n",
    "plt.clf()\n",
    "if numeric_scheme == 'TH' or numeric_scheme=='C0P1C0P1':\n",
    "    plt.tricontourf(x,y,triangles,p[:x.shape[0]])\n",
    "elif numeric_scheme == 'C0Q1C0Q1':\n",
    "    plt.tricontourf(x,y,p)\n",
    "elif numeric_scheme == 'TH_Quads':\n",
    "    plt.tricontourf(x,y,p)\n",
    "\n",
    "plt.xlabel('x'); plt.ylabel('y')\n",
    "plt.title('NSE Driven Cavity Solution Approximation'); plt.colorbar()\n",
    "plt.show()"
   ]
  },
  {
   "cell_type": "markdown",
   "metadata": {
    "collapsed": true
   },
   "source": [
    "### TO DO\n",
    "\n",
    "- I'd like to add a fgmres / ILU preconditioner option, but so far no luck\n",
    "- Is there a Jacobi preconditioner that will work?\n",
    "- Understand PETSc null space stuff better.\n",
    "- Keep adding and improving the write up\n",
    "- Can I get the PCD addition for the shur complement?  Unlikely but would be amazing\n"
   ]
  },
  {
   "cell_type": "code",
   "execution_count": null,
   "metadata": {
    "collapsed": true
   },
   "outputs": [],
   "source": []
  }
 ],
 "metadata": {
  "kernelspec": {
   "display_name": "Python 2",
   "language": "python",
   "name": "python2"
  },
  "language_info": {
   "codemirror_mode": {
    "name": "ipython",
    "version": 2
   },
   "file_extension": ".py",
   "mimetype": "text/x-python",
   "name": "python",
   "nbconvert_exporter": "python",
   "pygments_lexer": "ipython2",
   "version": "2.7.11"
  }
 },
 "nbformat": 4,
 "nbformat_minor": 0
}
