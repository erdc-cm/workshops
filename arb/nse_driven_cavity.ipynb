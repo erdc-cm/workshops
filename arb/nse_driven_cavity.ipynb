{
 "cells": [
  {
   "cell_type": "markdown",
   "metadata": {},
   "source": [
    "### Introduction - Navier-Stokes driven cavity problem with PETSc in Proteus.\n",
    "\n",
    "\n",
    "This notebook illustrates how to setup, solve and visualize a steady-state Navier-Stokes driven-cavity problem in Proteus using solver tools from the PETSc linear algebra library.\n",
    "\n",
    "\n",
    "The driven-cavity problem is a standard benchmark for modeling Stokes and Navier-Stokes equations.  The simulation models a self-contained (i.e. no inflow or outflow) tank of fluid with an external force generating a velocity along the top of the tank.  For example, one could imagine a fan blowing over the top of an open fish tank full of water, causing water at the tank's surface to move at a non-trivial velocity. One reference that provides a deeper discussion of this problem is \"Finite Elements and Faster Iterative Solvers\" by Elman, Silvester and Wathen.\n",
    "\n",
    "\n",
    "The governing equations for our problem are the Navier-Stokes equations which we present in non-dimensional form.  Let $p: \\Omega \\rightarrow \\mathbf{R}$, $\\mathbf{v}:\\Omega \\rightarrow \\mathbf{R} \\times \\mathbf{R}^n$ denote the unknown pressure and velocity of the system.  The Navier-Stokes equation relate these quantities through\n",
    "$$\n",
    "\\nabla \\cdot \\mathbf{v}  = 0 \n",
    "$$\n",
    "$$\n",
    "- \\dfrac{1}{Re} \\nabla \\cdot (\\nabla \\mathbf{v}) + \\mathbf{v} \\cdot \\nabla \\mathbf{v} + \\nabla p = \\mathbf{f},\n",
    "$$\n",
    "where $Re$ is the Reynolds number and $\\mathbf{f}$ is an external force.  As $Re$ increases, the non-linear convection term becomes more dominate to the system's behavior while as $Re$ decreases the the diffusion term will become more important to the system's behavior.  In many real world problems, $Re$ assumes a very large value, which results in a convection dominated system that is very challenging to solve numerically.\n",
    "\n",
    "In this example, we are interested in solving this system for $Re$ up to 1000.\n",
    "\n",
    "Our domain of interest is a 2D square tank\n",
    "$$\n",
    "\\Omega = [-1,1]^{2}\n",
    "$$\n",
    " with Dirichlet boundary conditons\n",
    "$$\n",
    "\\mathbf{v} = \\begin{pmatrix} 1 \\\\ 0 \\end{pmatrix} \\text{ for } \\Gamma_{\\text{top}}\n",
    "$$\n",
    "and\n",
    "$$\n",
    "\\mathbf{v} = \\begin{pmatrix} 0 \\\\ 0 \\end{pmatrix} \\text{ for } \\Gamma_{\\text{bottom}}, \\Gamma_{\\text{right}}, \\Gamma_{\\text{left}}.\n",
    "$$\n"
   ]
  },
  {
   "cell_type": "markdown",
   "metadata": {},
   "source": [
    "### Initialze Proteus Library\n",
    "\n",
    "This first block loads and initialzes the libraries needed to run the simulation.  numpy and petsc4py are external libraries that support Proteus' linear algebra operations.  The proteus.iproteus command loads the interacitve proteus library.\n",
    "\n",
    "The profiling commands enable output allowing us to track the progress of our simulation.  Increasing the log level will display more output."
   ]
  },
  {
   "cell_type": "code",
   "execution_count": 1,
   "metadata": {
    "collapsed": false
   },
   "outputs": [],
   "source": [
    "import numpy as np\n",
    "import petsc4py as petsc4py\n",
    "from proteus.iproteus import * \n",
    "\n",
    "Profiling.logLevel = 3\n",
    "Profiling.verbose = True"
   ]
  },
  {
   "cell_type": "markdown",
   "metadata": {
    "collapsed": true
   },
   "source": [
    "### Boundary Conditions\n",
    "\n",
    "Boundary conditions are critical to any numeric PDE solver.  In the next block of code we define two functions that will help use to specify problems boundary conditions. \n",
    "\n",
    "You may notice that uTrue does not simply return 1 for the top velocity.  In this example we will use a Newton Interation to solve the Navier-Stokes system.  As is well known, Newton iterations converge quadratically, but only if the initial guess is sufficiently close to the solution.  For Navier-Stokes problems, as the Reynolds number increases, this convergence ball gets smaller and smaller.\n",
    "\n",
    "Therefore, to solve a driven cavity problem with $Re=1000$, an initial guess of 0 is not good enough.  Instead, we solve a sequence of NS problems with increasing $Re$, and use the solution of the previous iteration as the initial guess for a new problem with a larger $Re$ number.  One way of accomplishing this in Proteus is to treat each successive solve as a time-step.\n",
    "\n",
    "Another point to consider is that since we are only specifying Dirichlet conditions, the system's pressure can only be solved up to a constant.  This means that the linear system we need to solve has a non-trivial null space.  In this tutorial, we won't focus on this issue, rather than mention that the linear solver deals with this null space 'under-the-hood'."
   ]
  },
  {
   "cell_type": "code",
   "execution_count": 2,
   "metadata": {
    "collapsed": true
   },
   "outputs": [],
   "source": [
    "\n",
    "class uTrue:\n",
    "    def __init__(self):\n",
    "        pass\n",
    "    def uOfX(self,x):\n",
    "        return 1.\n",
    "    def uOfXT(self,x,t):\n",
    "        return 10.0**max(0.0,t-1.0)\n",
    "        \n",
    "class vTrue:\n",
    "    def __init__(self):\n",
    "        pass\n",
    "    def vOfX(self,x):\n",
    "        return 0.\n",
    "    def vOfXT(self,x,t):\n",
    "        return self.vOfX(x)\n"
   ]
  },
  {
   "cell_type": "markdown",
   "metadata": {},
   "source": [
    "### The Proteus Phliosophy\n",
    "\n",
    "Before proceeding, it is worth noting that simulations designed in Proteus seperate the problem's physics and the numerics.  This approach allows researchers with different focuses study on the specific features of their problem. Next we discuss how to set up the driven-cavity physics and experiment with a variety of numerics."
   ]
  },
  {
   "cell_type": "markdown",
   "metadata": {},
   "source": [
    "### Define the Physics\n",
    "\n",
    "The first step in defining a problem's physics is to call default_p.  default_p is a collection of default values for the various physics parameters the Proteus solver expects.  After initializing default_p, we override many of the defaults to build the driven cavity NS problem we are interested in solving.  See the inline comments for details.\n"
   ]
  },
  {
   "cell_type": "code",
   "execution_count": 3,
   "metadata": {
    "collapsed": false
   },
   "outputs": [],
   "source": [
    "physics = default_p\n",
    "physics.name = \"nse_driven_cavity\"\n",
    "\n",
    "# this specifies the problem's dimension\n",
    "physics.nd = 2\n",
    "\n",
    "# There are several ways to specify a mesh in Proteus.  Perhaps the eaiset is to initialize\n",
    "# a coordinate for the bottom left corner of the mesh (.x0) and the length of each coordinate\n",
    "# axis (.L).\n",
    "# Thus, the commands below creates a mesh with length 1 in the x and y direction with its bottom \n",
    "# left corner at the origin.\n",
    "physics.x0 = [-1.0,-1.0]\n",
    "physics.L = [2.0,2.0]\n",
    "\n",
    "# Here we specify the simulation coefficients will come from a NavierStokes problem. Note that Proteus \n",
    "# has prewritten classes for most common physics problems.\n",
    "physics.coefficients = TransportCoefficients.TwophaseNavierStokes_ST_LS_SO(epsFact=0.0,\n",
    "                                                                           sigma=0.0,\n",
    "                                                                           rho_0=1.0,\n",
    "                                                                           nu_0=1.0,\n",
    "                                                                           rho_1=1.0,\n",
    "                                                                           nu_1=1.0,\n",
    "                                                                           g=[0.0,0.0],\n",
    "                                                                           nd=2,\n",
    "                                                                           LS_model=None,\n",
    "                                                                           KN_model=None,\n",
    "                                                                           epsFact_density=None,\n",
    "                                                                           stokes=False);\n",
    "\n",
    "# Next we define functions for our problem's boundary conditions.  Note that these functions\n",
    "# refer to the earlier boundary condition functions and are not memebers of the the physics class.\n",
    "def top(x,flag):\n",
    "    if x[1]== physics.x0[1]+physics.L[1]:\n",
    "        return True\n",
    "    else:\n",
    "        return False\n",
    "\n",
    "def sides(x,flag):\n",
    "    if (x[0]==physics.x0[0] or x[0]==(physics.x0[0]+physics.L[0])):\n",
    "        return True\n",
    "    else:\n",
    "        return False\n",
    "\n",
    "def bottom(x,flag):\n",
    "    if (x[1] == physics.x0[1]):\n",
    "        return True\n",
    "    else:\n",
    "        return False\n",
    "        \n",
    "def getDBCp(x,flag):\n",
    "    pass\n",
    "\n",
    "def getDBCu(x,flag):\n",
    "    if sides(x,flag) or bottom(x,flag):\n",
    "        return lambda x,t: 0.0\n",
    "    elif top(x,flag):\n",
    "        return lambda x,t: uTrue().uOfXT(x,t)\n",
    "\n",
    "def getDBCv(x,flag):\n",
    "    if (top(x,flag) or sides(x,flag) or bottom(x,flag)):\n",
    "        return lambda x,t: 0.0\n",
    "\n",
    "def getAdvFluxBCp(x,flag):\n",
    "    pass\n",
    "    \n",
    "def getAdvFluxBCu(x,flag):\n",
    "    pass\n",
    "\n",
    "def getAdvFluxBCv(x,flag):\n",
    "    pass\n",
    "    \n",
    "# Here we attach the boundary condition functions written above to Proteus' physics class.  For this\n",
    "# problem, the boundary conditions are fully specified by the Dirichlet conditions along the boundary.\n",
    "# The boundary conditions corresponding to the advectiveFlux and pressure are just place holders.\n",
    "physics.dirichletConditions = {0:getDBCp, 1:getDBCu, 2:getDBCv}\n",
    "physics.advectiveFluxBoundaryConditions = {0:getAdvFluxBCp,1:getAdvFluxBCu,2:getAdvFluxBCv}"
   ]
  },
  {
   "cell_type": "markdown",
   "metadata": {
    "collapsed": true
   },
   "source": [
    "### Define the Numerics\n",
    "\n",
    "As with the phyiscs, we load default_n to initialize the numerics.\n",
    "\n",
    "Following the initialization, we specify information on the: Mesh, FE Space, Linear Algebra and Solver Options, Numerical Flux and Post-Processing.\n",
    "\n",
    "**Mesh**\n",
    "\n",
    "While the dimensions and location of the domain are speicified as part of the simulation's physics, aspects of the refinment are speicifed as part of the simulation's numerics.  In this example, we specify the number of nodes on each coordinate axis of the mesh.  While other mesh options are avaliable, these will be demonstrated in other tutorials.\n",
    "\n",
    "**FE Space**\n",
    "\n",
    "Proteus supports several choices of finite elements to solve Stokes and Navier-Stokes problems.  In this example we illustrate how to specify Taylor-Hood (TH, TH_Quads) and stablized linear elements (C0P1C0P1, C0Q1C0Q1) on triangular and quadrilateral meshes.\n",
    "\n",
    "**Linear Algebra and Solver Options**\n",
    "\n",
    "We start with the non-linear solver.  (Note - Proteus currently only supports a Newton Iteration for the non-linear solver type but in the future users will be able to select a Picard Iteration as well.)  Users need to select the maximum non-linear iterations and line searches for the Newton Iteration.  In general, these values should not be too high as excessive iterations usual indicate the scheme is failing to converge.\n",
    "\n",
    "Next specify the linear solver.  The first choice is whether to solve the system using a direct or iterative method.  If possible, when first running a simulation, it is usually a good idea to start with a direct solver (of course, many simulations will be too large for a direct solver).  This will allow us to check that the non-linear solver is converging properly.\n",
    "\n",
    "After verifying everything is working with the non-linear solver, we can start experimenting with iterative solvers. In this tutorial, we will show how to use PETSc's flexible-gmres Krylov solver. \n",
    "\n",
    "High Reynolds number NS problems are notoriously difficult to solve with iterative solvers because of their poor conditioning.  Indeed, effective preconditioning for these problems remains an active field of research in numerical analysis.  One of the most effective preconditioning strategies is the Schur Complement, which takes advantage the block structure arising from the problem's physics to first solve for the pressure unknowns.  Once the pressure is known, it is a relatively easy to solve for the velocity.\n",
    "\n",
    "In the script below, we specify a PETSc iterative solver (see the ksp_type option) and preconditioner (see the pc_type option) using the PETSc4py tool.  In the LinearSolvers.NavierStokes2D, Proteus specifies which unknowns correspond to velcoity and pressure.  This allows us to further specify a solver and preconditioner for the velocity block.\n",
    "\n",
    "A full descirption of the Schur complement is beyond the scope of this tutorial, but there are many excellent resources avaliable including the text \"Finite Elements and Faster Iterative Solvers\" by Elman, Silvester and Wathen.  One comment we will make is that the built in preconditioners avaliable through PETSc (for example selfP) are not terribly effective for solving the Schur block for high Reynolds number NSE.  In these cases more effective Schur approximations and preconditioners are needed. \n",
    "\n",
    "**Numerical Flux Options**\n",
    "\n",
    "Finally, the problem's boundary conditions can also be enforced using a penalty method (see the paper Unified Analysis of Discontinuous Galerkin Methods For Elliptical Problems).  This option is set as part of the problems numerics using the numericalFluxType flag.  When the solver is set to iterative, Proteus requires the numericaFluxType be set in order for the degrees of freedom to interface with PETSc correctly.\n",
    "\n",
    "**Post-Processing**\n",
    "\n",
    "Neither stablized nor Taylor-Hood finite element schemes generate conservative velocity fields for the NSE. Proteus allows users to post-process their numerical solutions to become conservative.  The approach follows the Larson-Niklasson scheme discussed in the paper 'A conservative flux for the continuous Galerkin method based on discontinuous enrichment'.  Once the velocity has been made conservative, it is then projected into the $BDM_{1}$ space. "
   ]
  },
  {
   "cell_type": "code",
   "execution_count": 4,
   "metadata": {
    "collapsed": false
   },
   "outputs": [],
   "source": [
    "numerics = default_n\n",
    "\n",
    "# ******* MESH ********\n",
    "# this specifies the number of mesh nodes in the x and y directions \n",
    "numerics.nn = 71\n",
    "\n",
    "# ******* FE SPACE *********\n",
    "# these options specify the finite element space used to approximate the solution\n",
    "\n",
    "numeric_scheme = \"TH\" # ***** Options: TH, C0P1C0P1, TH_Quads, C0Q1C0Q1\n",
    "\n",
    "if numeric_scheme == \"TH\":\n",
    "    numerics.femSpaces = {0:FemTools.P1,  #pressure space\n",
    "                          1:FemTools.P2,\n",
    "                          2:FemTools.P2}  #velocity space\n",
    "\n",
    "elif numeric_scheme == \"C0P1C0P1\":\n",
    "    numerics.femSpaces = {0:FemTools.P1,\n",
    "                          1:FemTools.P1,\n",
    "                          2:FemTools.P1}\n",
    "    numerics.subgridError = SubgridError.NavierStokesASGS_velocity_pressure(physics.coefficients,physics.nd,lag=False)\n",
    "\n",
    "elif numeric_scheme == \"TH_Quads\":\n",
    "    numerics.femSpaces = {0:FemTools.Q1,\n",
    "                          1:FemTools.Q2,\n",
    "                          2:FemTools.Q2}\n",
    "    \n",
    "elif numeric_scheme == \"C0Q1C0Q1\":\n",
    "    numerics.femSpaces = {0:FemTools.Q1,\n",
    "                          1:FemTools.Q1,\n",
    "                          2:FemTools.Q1}\n",
    "    subgridError = SubgridError.NavierStokesASGS_velocity_pressure(physics.coefficients,physics.nd,lag=False)\n",
    "    \n",
    "else:\n",
    "    assert 0, 'Invalid element choice'\n",
    "    \n",
    "if numeric_scheme == \"TH\" or numeric_scheme == \"C0P1C0P1\":\n",
    "    numerics.elementQuadrature = Quadrature.SimplexGaussQuadrature(physics.nd,4)\n",
    "    numerics.elementBoundaryQuadrature = Quadrature.SimplexGaussQuadrature(physics.nd-1,4)\n",
    "\n",
    "elif numeric_scheme == \"C0Q1C0Q1\" or numeric_scheme == \"TH_Quads\":\n",
    "    numerics.quad = True\n",
    "    numerics.elementQuadrature = Quadrature.CubeGaussQuadrature(physics.nd,4)\n",
    "    numerics.elementBoundaryQuadrature = Quadrature.CubeGaussQuadrature(physics.nd-1,4)\n",
    "\n",
    "    \n",
    "# ******** LINEAR ALGEBRA, SOLVER AND NUMERICAL FLUX OPTIONS ********\n",
    "    \n",
    "numerics.matrix = LinearAlgebraTools.SparseMatrix\n",
    "\n",
    "numerics.multilevelNonlinearSolver = NonlinearSolvers.Newton\n",
    "numerics.levelNonlinearSolver = NonlinearSolvers.Newton\n",
    "numerics.maxNonlinearIts = 15\n",
    "numerics.maxLineSearches = 10\n",
    "\n",
    "numerics.linearSmoother = LinearSolvers.NavierStokes2D\n",
    "numerics.l_atol_res = 1.0e-4\n",
    "numerics.nl_atol_res = 1.0e-8\n",
    "\n",
    "solveIteratively = True   # ***** Options : True or False\n",
    "iterativeSolver = 'schur'  # ***** Options : 'schur'\n",
    "# NOTE - so far the schur complement preconditioner is not good enough to solve the problem for Re=1000 \n",
    "\n",
    "if solveIteratively:\n",
    "    numerics.multilevelLinearSolver = LinearSolvers.KSP_petsc4py\n",
    "    numerics.levelLinearSolver = LinearSolvers.KSP_petsc4py\n",
    "    if iterativeSolver == 'schur':\n",
    "        petsc4py.PETSc.Options().setValue(\"ksp_type\",\"fgmres\")\n",
    "        petsc4py.PETSc.Options().setValue(\"pc_type\",\"fieldsplit\")\n",
    "        petsc4py.PETSc.Options().setValue(\"pc_fieldsplit_type\",\"schur\")\n",
    "        petsc4py.PETSc.Options().setValue(\"pc_fieldsplit_precondition\",\"selfp\")\n",
    "        petsc4py.PETSc.Options().setValue(\"pc_fieldsplit_schur_fact_type\",\"full\")\n",
    "        petsc4py.PETSc.Options().setValue(\"pc_fieldsplit_detect_saddle_point\",\"\")\n",
    "        petsc4py.PETSc.Options().setValue(\"fieldsplit_velocity_ksp_type\",\"preonly\")\n",
    "        petsc4py.PETSc.Options().setValue(\"fieldsplit_velocity_pc_type\",\"lu\")\n",
    "        petsc4py.PETSc.Options().setValue(\"fieldsplit_pressure_ksp_constant_null_space\",\"\")\n",
    "        petsc4py.PETSc.Options().setValue(\"fieldsplit_pressure_ksp_max_it\",\"1500\")\n",
    "        petsc4py.PETSc.Options().setValue(\"fieldsplit_pressure_ksp_monitor_true_residual\",\"\")\n",
    "    numerics.numericalFluxType = NumericalFlux.NavierStokes_Advection_DiagonalUpwind_Diffusion_IIPG_exterior\n",
    "else:\n",
    "    numerics.multilevelLinearSolver = LinearSolvers.LU\n",
    "    numerics.levelLinearSolver = LinearSolvers.LU\n",
    "    numerics.numericalFluxType = None   # ****** Options: None or \n",
    "                                        # NumericalFlux.NavierStokes_Advection_DiagonalUpwind_Diffusion_IIPG_exterior\n",
    "    \n",
    "# ********* POST PROCESSING OPTIONS ************\n",
    "\n",
    "numerics.conservativeFlux = {0: 'pwl-bdm'}"
   ]
  },
  {
   "cell_type": "markdown",
   "metadata": {},
   "source": [
    "### Initialize SO\n",
    "\n",
    "This last set of initializations helps us run the drivien cavity simulation for higher Reynolds numbers.  To ensure Newton iteration's initial guess is close enough for the true solution to converge, we solve a sequence of NSE problems using the previous solution as input into the next problem.\n",
    "\n",
    "The second argument in the np.linspace function determines the final Reynolds number calcuated in the simulation (a value of 4 corresponds to $Re$ = 2000).  "
   ]
  },
  {
   "cell_type": "code",
   "execution_count": 5,
   "metadata": {
    "collapsed": true
   },
   "outputs": [],
   "source": [
    "so = default_so\n",
    "so.name = physics.name\n",
    "so.sList = [default_s]\n",
    "so.tnList = np.linspace(0.0,3.5,10).tolist()"
   ]
  },
  {
   "cell_type": "markdown",
   "metadata": {},
   "source": [
    "### Solve the Problem"
   ]
  },
  {
   "cell_type": "code",
   "execution_count": 6,
   "metadata": {
    "collapsed": false,
    "scrolled": true
   },
   "outputs": [
    {
     "name": "stdout",
     "output_type": "stream",
     "text": [
      "[       5] Initializing NumericalSolution for nse_driven_cavity\n",
      " System includes: \n",
      "nse_driven_cavity\n",
      "\n",
      "[       5] Setting Archiver(s)\n",
      "[       5] Setting up MultilevelMesh\n",
      "[       5] Building one multilevel mesh for all models\n",
      "[       5] Generating mesh for nse_driven_cavity\n",
      "[       5] Building 71 x 71 rectangular mesh for nse_driven_cavity\n",
      "[       5] Partitioning mesh among 1 processors using partitioningType = 0\n",
      "[       5] Number of Subdomain Elements Owned= 9800\n",
      "[       5] Number of Subdomain Elements = 9800\n",
      "[       5] Number of Subdomain Nodes Owned= 5041\n",
      "[       5] Number of Subdomain Nodes = 5041\n",
      "[       5] Number of Subdomain elementBoundaries Owned= 14840\n",
      "[       5] Number of Subdomain elementBoundaries = 14840\n",
      "[       5] Number of Subdomain Edges Owned= 14840\n",
      "[       5] Number of Subdomain Edges = 14840\n",
      "[       5] Finished partitioning\n",
      "[       5] *** Global ***\n",
      "Number of triangles  : 9800\n",
      "Number of edges : 14840\n",
      "Number of nodes : 5041\n",
      "\n",
      "*** Local ***\n",
      "Number of triangles  : 9800\n",
      "Number of edges : 14840\n",
      "Number of nodes : 5041\n",
      "\n",
      "[       5] Setting up MultilevelTransport for nse_driven_cavity\n",
      "[       5] Building Transport for each mesh\n",
      "[       5] Generating Trial Space\n",
      "[       5] Generating Test Space\n",
      "[       5] Allocating u\n",
      "[       5] Allocating phi\n",
      "[       5] Setting Boundary Conditions\n",
      "[       5] Setting Boundary Conditions-1\n",
      "[       5] Setting Boundary Conditions-2\n",
      "[       5] Setting Boundary Conditions-2a\n",
      "[       5] Setting Boundary Conditions-3\n",
      "[       5] Setting Boundary Conditions-4\n",
      "[       5] Initializing OneLevelTransport\n",
      "[       5] Sparse diffusion information key (1, 1) = (array([0, 1, 2], dtype=int32), array([0, 1], dtype=int32))\n",
      "[       5] Sparse diffusion information key (1, 2) = (array([0, 0, 1], dtype=int32), array([0], dtype=int32))\n",
      "[       5] Sparse diffusion information key (2, 1) = (array([0, 1, 1], dtype=int32), array([1], dtype=int32))\n",
      "[       5] Sparse diffusion information key (2, 2) = (array([0, 1, 2], dtype=int32), array([0, 1], dtype=int32))\n",
      "[       6] Updating local to global mappings\n",
      "[       6] Building time integration object\n",
      "[       6] Calculating numerical quadrature formulas\n",
      "[       7] Allocating residual and solution vectors\n",
      "[       7] Allocating Jacobian\n",
      "[       7] Building sparse matrix structure\n",
      "[       9] Allocating parallel storage\n",
      "[       9] Allocating ghosted parallel vectors on rank 0\n",
      "[       9] Allocating un-ghosted parallel vectors on rank 0\n",
      "[       9] Allocating matrix on rank 0\n",
      "[       9] ParMat_petsc4py comm.rank= 0 blockSize = 1 par_n= 44803 par_N=44803 par_nghost=0 par_jacobian.getSizes()= ((44803, 44803), (44803, 44803)) \n",
      "[       9] Building Mesh Transfers\n",
      "[       9] Setting nse_driven_cavity stepController to proteus.StepControl.SC_base\n",
      "[       9] Setting up MultilevelLinearSolver fornse_driven_cavity\n",
      "[       9] multilevelLinearSolverChooser type= proteus.LinearSolvers.KSP_petsc4py\n",
      "[       9] Setting up MultilevelNonLinearSolver for nse_driven_cavity\n",
      "[       9] Finished setting up models and solvers\n",
      "[       9] Setting up SimTools for nse_driven_cavity\n",
      "[       9] Using tnList from so = nse_driven_cavity\n",
      "[       9] Time sequence[0.0, 0.3888888888888889, 0.7777777777777778, 1.1666666666666667, 1.5555555555555556, 1.9444444444444444, 2.3333333333333335, 2.7222222222222223, 3.111111111111111, 3.5]\n",
      "[       9] Setting nse_driven_cavity systemStepController to object of type proteus.SplitOperator.Sequential_MinModelStep\n",
      "[       9] Finished NumericalSolution initialization\n",
      "[       9] Setting initial conditions\n",
      "[       9] No initial conditions provided for model nse_driven_cavity\n",
      "[       9] Attaching models and running spin-up step if requested\n",
      "[       9] Attaching models to model nse_driven_cavity\n",
      "[       9] Archiving initial conditions\n",
      "[       9] Gathering Archive Time step\n",
      "[       9] Done Gathering Archive Time Step\n",
      "[       9] Estimating initial time derivative and initializing time history for model nse_driven_cavity\n",
      "[       9] Choosing initial time step for model nse_driven_cavity\n",
      "[       9] Initializing time step on model nse_driven_cavity to dt =  3.88889e-01\n",
      "[       9] Initializing time history for model step controller\n",
      "[       9] Initializing time step on system Default System to dt =  3.88889e-01\n",
      "[       9] Initializing step sequence for system Default System to [(0.3888888888888889, <proteus.Transport.MultilevelTransport instance at 0x7f78e2805320>)]\n",
      "[       9] Auxiliary variable calculations for model nse_driven_cavity\n",
      "[       9] Starting time stepping\n",
      "[       9] ==============================================================\n",
      "[       9] Solving over interval [ 0.00000e+00, 3.88889e-01]\n",
      "[       9] ==============================================================\n",
      "[       9] Model: nse_driven_cavity\n",
      "[       9] StepControl base stepExact t_model= 0.388888888889 tOut= 0.388888888889 t_model_last= 0.0 dt_model= 0.388888888889 setting to 0.388888888889 \n",
      "[      10]    Newton it 0 norm(r) =  6.23164e+02  \t\t norm(r)/(rtol*norm(r0)+atol) = 100 test=r\n",
      "[      10] before ksp.rtol= 0.001 ksp.atol= 0.0001 ksp.converged= False ksp.its= 0 ksp.norm= 0.0 \n"
     ]
    },
    {
     "ename": "Error",
     "evalue": "error code 56\n[0] KSPSolve() line 604 in /home/alistair/.hashdist/tmp/petsc-qocojaimbax4-1/src/ksp/ksp/interface/itfunc.c\n[0] KSPSolve_FGMRES() line 295 in /home/alistair/.hashdist/tmp/petsc-qocojaimbax4-1/src/ksp/ksp/impls/gmres/fgmres/fgmres.c\n[0] KSPFGMRESCycle() line 168 in /home/alistair/.hashdist/tmp/petsc-qocojaimbax4-1/src/ksp/ksp/impls/gmres/fgmres/fgmres.c\n[0] KSP_PCApply() line 242 in /home/alistair/.hashdist/tmp/petsc-qocojaimbax4-1/include/petsc/private/kspimpl.h\n[0] PCApply() line 482 in /home/alistair/.hashdist/tmp/petsc-qocojaimbax4-1/src/ksp/pc/interface/precon.c\n[0] PCApply_FieldSplit_Schur() line 904 in /home/alistair/.hashdist/tmp/petsc-qocojaimbax4-1/src/ksp/pc/impls/fieldsplit/fieldsplit.c\n[0] KSPSolve() line 546 in /home/alistair/.hashdist/tmp/petsc-qocojaimbax4-1/src/ksp/ksp/interface/itfunc.c\n[0] KSPSetUp() line 332 in /home/alistair/.hashdist/tmp/petsc-qocojaimbax4-1/src/ksp/ksp/interface/itfunc.c\n[0] PCSetUp() line 982 in /home/alistair/.hashdist/tmp/petsc-qocojaimbax4-1/src/ksp/pc/interface/precon.c\n[0] PCSetUp_HYPRE() line 170 in /home/alistair/.hashdist/tmp/petsc-qocojaimbax4-1/src/ksp/pc/impls/hypre/hypre.c\n[0] MatHYPRE_IJMatrixCopy() line 136 in /home/alistair/.hashdist/tmp/petsc-qocojaimbax4-1/src/dm/impls/da/hypre/mhyp.c\n[0] MatGetRow() line 424 in /home/alistair/.hashdist/tmp/petsc-qocojaimbax4-1/src/mat/interface/matrix.c\n[0] No support for this operation for this object type\n[0] Mat type schurcomplement",
     "output_type": "error",
     "traceback": [
      "\u001b[1;31m---------------------------------------------------------------------------\u001b[0m",
      "\u001b[1;31mError\u001b[0m                                     Traceback (most recent call last)",
      "\u001b[1;32m<ipython-input-6-697e918e675d>\u001b[0m in \u001b[0;36m<module>\u001b[1;34m()\u001b[0m\n\u001b[0;32m      1\u001b[0m \u001b[0mns\u001b[0m \u001b[1;33m=\u001b[0m \u001b[0mNumericalSolution\u001b[0m\u001b[1;33m.\u001b[0m\u001b[0mNS_base\u001b[0m\u001b[1;33m(\u001b[0m\u001b[0mso\u001b[0m\u001b[1;33m,\u001b[0m\u001b[1;33m[\u001b[0m\u001b[0mphysics\u001b[0m\u001b[1;33m]\u001b[0m\u001b[1;33m,\u001b[0m\u001b[1;33m[\u001b[0m\u001b[0mnumerics\u001b[0m\u001b[1;33m]\u001b[0m\u001b[1;33m,\u001b[0m\u001b[0mso\u001b[0m\u001b[1;33m.\u001b[0m\u001b[0msList\u001b[0m\u001b[1;33m,\u001b[0m\u001b[0mopts\u001b[0m\u001b[1;33m)\u001b[0m\u001b[1;33m\u001b[0m\u001b[0m\n\u001b[1;32m----> 2\u001b[1;33m \u001b[0mns\u001b[0m\u001b[1;33m.\u001b[0m\u001b[0mcalculateSolution\u001b[0m\u001b[1;33m(\u001b[0m\u001b[1;34m'run1'\u001b[0m\u001b[1;33m)\u001b[0m\u001b[1;33m\u001b[0m\u001b[0m\n\u001b[0m",
      "\u001b[1;32m/home/alistair/proteus/proteus/NumericalSolution.pyc\u001b[0m in \u001b[0;36mcalculateSolution\u001b[1;34m(self, runName)\u001b[0m\n\u001b[0;32m    757\u001b[0m                                                                             \u001b[0mrList\u001b[0m\u001b[1;33m=\u001b[0m\u001b[0mmodel\u001b[0m\u001b[1;33m.\u001b[0m\u001b[0mrList\u001b[0m\u001b[1;33m,\u001b[0m\u001b[1;33m\u001b[0m\u001b[0m\n\u001b[0;32m    758\u001b[0m                                                                             \u001b[0mpar_uList\u001b[0m\u001b[1;33m=\u001b[0m\u001b[0mmodel\u001b[0m\u001b[1;33m.\u001b[0m\u001b[0mpar_uList\u001b[0m\u001b[1;33m,\u001b[0m\u001b[1;33m\u001b[0m\u001b[0m\n\u001b[1;32m--> 759\u001b[1;33m                                                                             par_rList=model.par_rList)\n\u001b[0m\u001b[0;32m    760\u001b[0m                                 \u001b[0mProfiling\u001b[0m\u001b[1;33m.\u001b[0m\u001b[0mmemory\u001b[0m\u001b[1;33m(\u001b[0m\u001b[1;34m\"solver.solveMultilevel\"\u001b[0m\u001b[1;33m)\u001b[0m\u001b[1;33m\u001b[0m\u001b[0m\n\u001b[0;32m    761\u001b[0m                                 \u001b[1;32mif\u001b[0m \u001b[0mself\u001b[0m\u001b[1;33m.\u001b[0m\u001b[0mopts\u001b[0m\u001b[1;33m.\u001b[0m\u001b[0mwait\u001b[0m\u001b[1;33m:\u001b[0m\u001b[1;33m\u001b[0m\u001b[0m\n",
      "\u001b[1;32m/home/alistair/proteus/proteus/NonlinearSolvers.pyc\u001b[0m in \u001b[0;36msolveMultilevel\u001b[1;34m(self, uList, rList, bList, par_uList, par_rList)\u001b[0m\n\u001b[0;32m   2255\u001b[0m                                      \u001b[0mb\u001b[0m \u001b[1;33m=\u001b[0m \u001b[0mbList\u001b[0m\u001b[1;33m[\u001b[0m\u001b[0ml\u001b[0m\u001b[1;33m]\u001b[0m\u001b[1;33m,\u001b[0m\u001b[1;33m\u001b[0m\u001b[0m\n\u001b[0;32m   2256\u001b[0m                                      \u001b[0mpar_u\u001b[0m \u001b[1;33m=\u001b[0m \u001b[0mpar_u\u001b[0m\u001b[1;33m,\u001b[0m\u001b[1;33m\u001b[0m\u001b[0m\n\u001b[1;32m-> 2257\u001b[1;33m                                      par_r = par_r)\n\u001b[0m\u001b[0;32m   2258\u001b[0m         \u001b[1;32mreturn\u001b[0m \u001b[0mself\u001b[0m\u001b[1;33m.\u001b[0m\u001b[0msolverList\u001b[0m\u001b[1;33m[\u001b[0m\u001b[1;33m-\u001b[0m\u001b[1;36m1\u001b[0m\u001b[1;33m]\u001b[0m\u001b[1;33m.\u001b[0m\u001b[0mfailedFlag\u001b[0m\u001b[1;33m\u001b[0m\u001b[0m\n\u001b[0;32m   2259\u001b[0m \u001b[1;33m\u001b[0m\u001b[0m\n",
      "\u001b[1;32m/home/alistair/proteus/proteus/NonlinearSolvers.pyc\u001b[0m in \u001b[0;36msolve\u001b[1;34m(self, u, r, b, par_u, par_r)\u001b[0m\n\u001b[0;32m    491\u001b[0m                     \u001b[0mself\u001b[0m\u001b[1;33m.\u001b[0m\u001b[0msetLinearSolverTolerance\u001b[0m\u001b[1;33m(\u001b[0m\u001b[0mr\u001b[0m\u001b[1;33m)\u001b[0m\u001b[1;33m\u001b[0m\u001b[0m\n\u001b[0;32m    492\u001b[0m             \u001b[1;32mif\u001b[0m \u001b[1;32mnot\u001b[0m \u001b[0mself\u001b[0m\u001b[1;33m.\u001b[0m\u001b[0mlinearSolverFailed\u001b[0m\u001b[1;33m:\u001b[0m\u001b[1;33m\u001b[0m\u001b[0m\n\u001b[1;32m--> 493\u001b[1;33m                 \u001b[0mself\u001b[0m\u001b[1;33m.\u001b[0m\u001b[0mlinearSolver\u001b[0m\u001b[1;33m.\u001b[0m\u001b[0msolve\u001b[0m\u001b[1;33m(\u001b[0m\u001b[0mu\u001b[0m\u001b[1;33m=\u001b[0m\u001b[0mself\u001b[0m\u001b[1;33m.\u001b[0m\u001b[0mdu\u001b[0m\u001b[1;33m,\u001b[0m\u001b[0mb\u001b[0m\u001b[1;33m=\u001b[0m\u001b[0mr\u001b[0m\u001b[1;33m,\u001b[0m\u001b[0mpar_u\u001b[0m\u001b[1;33m=\u001b[0m\u001b[0mself\u001b[0m\u001b[1;33m.\u001b[0m\u001b[0mpar_du\u001b[0m\u001b[1;33m,\u001b[0m\u001b[0mpar_b\u001b[0m\u001b[1;33m=\u001b[0m\u001b[0mpar_r\u001b[0m\u001b[1;33m)\u001b[0m\u001b[1;33m\u001b[0m\u001b[0m\n\u001b[0m\u001b[0;32m    494\u001b[0m                 \u001b[0mself\u001b[0m\u001b[1;33m.\u001b[0m\u001b[0mlinearSolverFailed\u001b[0m \u001b[1;33m=\u001b[0m \u001b[0mself\u001b[0m\u001b[1;33m.\u001b[0m\u001b[0mlinearSolver\u001b[0m\u001b[1;33m.\u001b[0m\u001b[0mfailed\u001b[0m\u001b[1;33m(\u001b[0m\u001b[1;33m)\u001b[0m\u001b[1;33m\u001b[0m\u001b[0m\n\u001b[0;32m    495\u001b[0m             \u001b[0mu\u001b[0m\u001b[1;33m-=\u001b[0m\u001b[0mself\u001b[0m\u001b[1;33m.\u001b[0m\u001b[0mdu\u001b[0m\u001b[1;33m\u001b[0m\u001b[0m\n",
      "\u001b[1;32m/home/alistair/proteus/proteus/LinearSolvers.pyc\u001b[0m in \u001b[0;36msolve\u001b[1;34m(self, u, r, b, par_u, par_b, initialGuessIsZero)\u001b[0m\n\u001b[0;32m    553\u001b[0m         \u001b[1;32mexcept\u001b[0m\u001b[1;33m:\u001b[0m\u001b[1;33m\u001b[0m\u001b[0m\n\u001b[0;32m    554\u001b[0m             \u001b[1;32mpass\u001b[0m\u001b[1;33m\u001b[0m\u001b[0m\n\u001b[1;32m--> 555\u001b[1;33m         \u001b[0mself\u001b[0m\u001b[1;33m.\u001b[0m\u001b[0mksp\u001b[0m\u001b[1;33m.\u001b[0m\u001b[0msolve\u001b[0m\u001b[1;33m(\u001b[0m\u001b[0mpar_b\u001b[0m\u001b[1;33m,\u001b[0m\u001b[0mpar_u\u001b[0m\u001b[1;33m)\u001b[0m\u001b[1;33m\u001b[0m\u001b[0m\n\u001b[0m\u001b[0;32m    556\u001b[0m         logEvent(\"after ksp.rtol= %s ksp.atol= %s ksp.converged= %s ksp.its= %s ksp.norm= %s reason = %s\" % (self.ksp.rtol,\n\u001b[0;32m    557\u001b[0m                                                                                                              \u001b[0mself\u001b[0m\u001b[1;33m.\u001b[0m\u001b[0mksp\u001b[0m\u001b[1;33m.\u001b[0m\u001b[0matol\u001b[0m\u001b[1;33m,\u001b[0m\u001b[1;33m\u001b[0m\u001b[0m\n",
      "\u001b[1;32mPETSc/KSP.pyx\u001b[0m in \u001b[0;36mpetsc4py.PETSc.KSP.solve (src/petsc4py.PETSc.c:149872)\u001b[1;34m()\u001b[0m\n",
      "\u001b[1;31mError\u001b[0m: error code 56\n[0] KSPSolve() line 604 in /home/alistair/.hashdist/tmp/petsc-qocojaimbax4-1/src/ksp/ksp/interface/itfunc.c\n[0] KSPSolve_FGMRES() line 295 in /home/alistair/.hashdist/tmp/petsc-qocojaimbax4-1/src/ksp/ksp/impls/gmres/fgmres/fgmres.c\n[0] KSPFGMRESCycle() line 168 in /home/alistair/.hashdist/tmp/petsc-qocojaimbax4-1/src/ksp/ksp/impls/gmres/fgmres/fgmres.c\n[0] KSP_PCApply() line 242 in /home/alistair/.hashdist/tmp/petsc-qocojaimbax4-1/include/petsc/private/kspimpl.h\n[0] PCApply() line 482 in /home/alistair/.hashdist/tmp/petsc-qocojaimbax4-1/src/ksp/pc/interface/precon.c\n[0] PCApply_FieldSplit_Schur() line 904 in /home/alistair/.hashdist/tmp/petsc-qocojaimbax4-1/src/ksp/pc/impls/fieldsplit/fieldsplit.c\n[0] KSPSolve() line 546 in /home/alistair/.hashdist/tmp/petsc-qocojaimbax4-1/src/ksp/ksp/interface/itfunc.c\n[0] KSPSetUp() line 332 in /home/alistair/.hashdist/tmp/petsc-qocojaimbax4-1/src/ksp/ksp/interface/itfunc.c\n[0] PCSetUp() line 982 in /home/alistair/.hashdist/tmp/petsc-qocojaimbax4-1/src/ksp/pc/interface/precon.c\n[0] PCSetUp_HYPRE() line 170 in /home/alistair/.hashdist/tmp/petsc-qocojaimbax4-1/src/ksp/pc/impls/hypre/hypre.c\n[0] MatHYPRE_IJMatrixCopy() line 136 in /home/alistair/.hashdist/tmp/petsc-qocojaimbax4-1/src/dm/impls/da/hypre/mhyp.c\n[0] MatGetRow() line 424 in /home/alistair/.hashdist/tmp/petsc-qocojaimbax4-1/src/mat/interface/matrix.c\n[0] No support for this operation for this object type\n[0] Mat type schurcomplement"
     ]
    }
   ],
   "source": [
    "ns = NumericalSolution.NS_base(so,[physics],[numerics],so.sList,opts)\n",
    "ns.calculateSolution('run1')"
   ]
  },
  {
   "cell_type": "markdown",
   "metadata": {},
   "source": [
    "### Visualize the Solution"
   ]
  },
  {
   "cell_type": "code",
   "execution_count": null,
   "metadata": {
    "collapsed": true
   },
   "outputs": [],
   "source": [
    "# save solution and grid data for plotting purposes\n",
    "x = ns.modelList[0].levelModelList[-1].mesh.nodeArray[:,0]\n",
    "y = ns.modelList[0].levelModelList[-1].mesh.nodeArray[:,1]\n",
    "triangles = ns.modelList[0].levelModelList[-1].mesh.elementNodesArray\n",
    "p = ns.modelList[0].levelModelList[-1].u[0].dof\n",
    "u = ns.modelList[0].levelModelList[-1].u[1].dof\n",
    "v = ns.modelList[0].levelModelList[-1].u[2].dof\n",
    "\n",
    "# a different grid is needed for TH on Quads\n",
    "if numeric_scheme == 'TH_Quads':\n",
    "    num_DOF = ns.modelList[0].levelModelList[-1].u[1].femSpace.dofMap.lagrangeNodesArray.shape[0]\n",
    "    x_ref = np.zeros((num_DOF,))\n",
    "    y_ref = np.zeros((num_DOF,))\n",
    "    for dof_idx in range(num_DOF):\n",
    "        x_ref[dof_idx] = ns.modelList[0].levelModelList[-1].u[1].femSpace.dofMap.lagrangeNodesArray[dof_idx][0]\n",
    "        y_ref[dof_idx] = ns.modelList[0].levelModelList[-1].u[1].femSpace.dofMap.lagrangeNodesArray[dof_idx][1]"
   ]
  },
  {
   "cell_type": "code",
   "execution_count": null,
   "metadata": {
    "collapsed": false
   },
   "outputs": [],
   "source": [
    "%pylab inline"
   ]
  },
  {
   "cell_type": "code",
   "execution_count": null,
   "metadata": {
    "collapsed": false,
    "scrolled": true
   },
   "outputs": [],
   "source": [
    "import matplotlib.pyplot as plt\n",
    "plt.clf()\n",
    "\n",
    "if numeric_scheme == 'TH' or numeric_scheme=='C0P1C0P1':\n",
    "    plt.tricontourf(x,y,triangles,u[:x.shape[0]])\n",
    "elif numeric_scheme == 'C0Q1C0Q1':\n",
    "    plt.tricontourf(x,y,u)\n",
    "elif numeric_scheme == 'TH_Quads':\n",
    "    plt.tricontourf(x_ref,y_ref,u)\n",
    "\n",
    "plt.xlabel('x'); plt.ylabel('y')\n",
    "plt.title('NSE Driven Cavity Solution Approximation'); plt.colorbar()\n",
    "plt.show()\n"
   ]
  },
  {
   "cell_type": "code",
   "execution_count": null,
   "metadata": {
    "collapsed": false
   },
   "outputs": [],
   "source": [
    "import matplotlib.pyplot as plt\n",
    "plt.clf()\n",
    "if numeric_scheme == 'TH' or numeric_scheme=='C0P1C0P1':\n",
    "    plt.tricontourf(x,y,triangles,v[:x.shape[0]])\n",
    "elif numeric_scheme == 'C0Q1C0Q1':\n",
    "    plt.tricontourf(x,y,v)\n",
    "elif numeric_scheme == 'TH_Quads':\n",
    "    plt.tricontourf(x_ref,y_ref,v)\n",
    "    \n",
    "plt.xlabel('x'); plt.ylabel('y')\n",
    "plt.title('NSE Driven Cavity Solution Approximation'); plt.colorbar()\n",
    "plt.show()"
   ]
  },
  {
   "cell_type": "code",
   "execution_count": null,
   "metadata": {
    "collapsed": false
   },
   "outputs": [],
   "source": [
    "import matplotlib.pyplot as plt\n",
    "plt.clf()\n",
    "if numeric_scheme == 'TH' or numeric_scheme=='C0P1C0P1':\n",
    "    plt.tricontourf(x,y,triangles,p[:x.shape[0]])\n",
    "elif numeric_scheme == 'C0Q1C0Q1':\n",
    "    plt.tricontourf(x,y,p)\n",
    "elif numeric_scheme == 'TH_Quads':\n",
    "    plt.tricontourf(x,y,p)\n",
    "\n",
    "plt.xlabel('x'); plt.ylabel('y')\n",
    "plt.title('NSE Driven Cavity Solution Approximation'); plt.colorbar()\n",
    "plt.show()"
   ]
  }
 ],
 "metadata": {
  "kernelspec": {
   "display_name": "Python 2",
   "language": "python",
   "name": "python2"
  },
  "language_info": {
   "codemirror_mode": {
    "name": "ipython",
    "version": 2
   },
   "file_extension": ".py",
   "mimetype": "text/x-python",
   "name": "python",
   "nbconvert_exporter": "python",
   "pygments_lexer": "ipython2",
   "version": "2.7.11"
  }
 },
 "nbformat": 4,
 "nbformat_minor": 0
}
