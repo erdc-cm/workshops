{
 "cells": [
  {
   "cell_type": "markdown",
   "metadata": {},
   "source": [
    "Hashdist is a tool for building software stacks from source in a reproducible manner. The stacks are described in [YAML](yaml.org) and consist of a *profile* and all the *package definitions* required by the profile. \n",
    "\n",
    "Proteus uses hashdist to build the software stack it depends on, so it has a copy that only requires a Python interpreter:"
   ]
  },
  {
   "cell_type": "code",
   "execution_count": 4,
   "metadata": {},
   "outputs": [
    {
     "name": "stdout",
     "output_type": "stream",
     "text": [
      "bin\t\t\t  doc\t    LICENSE.txt  setup.py  tox.ini\r\n",
      "distlib-CONTRIBUTORS.txt  hashdist  README.rst\t share\r\n"
     ]
    }
   ],
   "source": [
    "!ls ../proteus/hashdist"
   ]
  },
  {
   "cell_type": "markdown",
   "metadata": {},
   "source": [
    "Hashdist as a Command Line Interface (CLI), call `hit`"
   ]
  },
  {
   "cell_type": "code",
   "execution_count": 6,
   "metadata": {},
   "outputs": [
    {
     "name": "stdout",
     "output_type": "stream",
     "text": [
      "usage: hit [-h] [--config-file CONFIG_FILE] [--ipdb] [--log LOG]\r\n",
      "           {bdir,build,build-postprocess,build-unpack-sources,build-whitelist,build-write-files,clearsources,cp,create-links,develop,fetch,fetchgit,gc,help,init-home,load,mv,purge,push,remote,rm,self-check,shell,show,skeleton-pypi,status,unpack}\r\n",
      "           ...\r\n",
      "\r\n",
      "Entry-point for various HashDist command-line tools\r\n",
      "\r\n",
      "optional arguments:\r\n",
      "  -h, --help            show this help message and exit\r\n",
      "  --config-file CONFIG_FILE\r\n",
      "                        Location of hashdist configuration file (default:\r\n",
      "                        /home/cekees/.hashdist/config.yaml)\r\n",
      "  --ipdb                Enable IPython debugging on error\r\n",
      "  --log LOG             One of [DEBUG, INFO, ERROR, WARNING, CRITICAL]\r\n",
      "\r\n",
      "subcommands:\r\n",
      "  {bdir,build,build-postprocess,build-unpack-sources,build-whitelist,build-write-files,clearsources,cp,create-links,develop,fetch,fetchgit,gc,help,init-home,load,mv,purge,push,remote,rm,self-check,shell,show,skeleton-pypi,status,unpack}\r\n",
      "    bdir                Create the build directory, ready for build, in a\r\n",
      "                        given location.\r\n",
      "    build               Build a profile in the HashDist YAML profile spec\r\n",
      "                        format.\r\n",
      "    build-postprocess   Walk through directories to perform the actions given\r\n",
      "                        by flags.\r\n",
      "    build-unpack-sources\r\n",
      "                        Extract a set of sources as described in a\r\n",
      "                        ``build.json`` spec.\r\n",
      "    build-whitelist     Prints a whitelist based on artifacts listed in the\r\n",
      "                        HDIST_IMPORTS environment\r\n",
      "    build-write-files   Writes a set of files inlined in a ``build.json``\r\n",
      "                        spec.\r\n",
      "    clearsources        Empties the source cache. Must be used with the\r\n",
      "                        --force argument.\r\n",
      "    cp                  Copies a HashDist profile symlink while keeping GC\r\n",
      "                        references up\r\n",
      "    create-links        Sets up a set of symlinks to the host system. Works by\r\n",
      "                        specifying\r\n",
      "    develop             Builds a development profile in the HashDist YAML\r\n",
      "                        profile spec\r\n",
      "    fetch               Fetch an archive to the source cache\r\n",
      "    fetchgit            Fetch git sources to the source cache\r\n",
      "    gc                  Perform garbage collection to free up disk space.\r\n",
      "    help                Displays help about sub-commands\r\n",
      "    init-home           Initialize the current user's home directory for\r\n",
      "                        HashDist.\r\n",
      "    load                Loads a given profile.\r\n",
      "    mv                  Moves a HashDist profile symlink while keeping GC\r\n",
      "                        references in sync.\r\n",
      "    purge               Removes a build artifact from the build store. The\r\n",
      "                        specific artifact ID must be\r\n",
      "    push                Push artifacts to remote build store\r\n",
      "    remote              Manage remote build store and source caches.\r\n",
      "    rm                  Removes a HashDist profile symlink while keeping GC\r\n",
      "                        references in sync.\r\n",
      "    self-check          Verifies the consistency of a HashDist configuration\r\n",
      "                        file.\r\n",
      "    shell               Open an IPython shell with hashdist set up\r\n",
      "    show                Shows (debug) information for building a profile\r\n",
      "    skeleton-pypi       Fetches a pypi package and creates a yaml package for\r\n",
      "                        it.\r\n",
      "    status              Status a profile in the HashDist YAML profile spec\r\n",
      "                        format, and\r\n",
      "    unpack              Unpacks sources that are stored in the source cache to\r\n",
      "                        a local directory\r\n"
     ]
    }
   ],
   "source": [
    "!../proteus/hashdist/bin/hit -h"
   ]
  },
  {
   "cell_type": "markdown",
   "metadata": {},
   "source": [
    "Most users only need a few commands."
   ]
  },
  {
   "cell_type": "code",
   "execution_count": 7,
   "metadata": {},
   "outputs": [
    {
     "name": "stdout",
     "output_type": "stream",
     "text": [
      "[\u001b[34;01mprofile\u001b[39;49;00m] Building profile/byicuf3i4yct, follow log with:\n",
      "[\u001b[34;01mprofile\u001b[39;49;00m]   tail -f /home/cekees/.hashdist/tmp/profile-byicuf3i4yct/_hashdist/build.log\n",
      "Up to date, link at: default\n"
     ]
    }
   ],
   "source": [
    "!cd ../proteus/stack && ../hashdist/bin/hit build default.yaml"
   ]
  },
  {
   "cell_type": "code",
   "execution_count": 8,
   "metadata": {},
   "outputs": [
    {
     "name": "stdout",
     "output_type": "stream",
     "text": [
      "artifact.json  blaze\t   build.log.gz  etc  include  man\r\n",
      "bin\t       build.json  doc\t\t id   lib      share\r\n"
     ]
    }
   ],
   "source": [
    "!ls ../proteus/stack/default"
   ]
  },
  {
   "cell_type": "markdown",
   "metadata": {},
   "source": [
    "`hit build` builds read-only stacks. If you want to install additional software into your profile, use `hit develop` instead"
   ]
  },
  {
   "cell_type": "code",
   "execution_count": 10,
   "metadata": {},
   "outputs": [
    {
     "name": "stdout",
     "output_type": "stream",
     "text": [
      "[Profile dependencies are up to date]\n",
      "[\u001b[34;01mprofile\u001b[39;49;00m] Building profile/hrtwdodbu7tt, follow log with:\n",
      "[\u001b[34;01mprofile\u001b[39;49;00m]   tail -f /home/cekees/proteus/stack/default_dev/_hashdist/build.log\n",
      "Development profile build /home/cekees/proteus/stack/default_dev successful\n"
     ]
    }
   ],
   "source": [
    "!cd ../proteus/stack && ../hashdist/bin/hit develop default.yaml default_dev"
   ]
  },
  {
   "cell_type": "code",
   "execution_count": 12,
   "metadata": {},
   "outputs": [
    {
     "name": "stdout",
     "output_type": "stream",
     "text": [
      "Collecting pandas\n",
      "  Using cached pandas-0.21.0.tar.gz\n",
      "Requirement already satisfied: python-dateutil in /home/cekees/proteus/stack/default_dev/lib/python2.7/site-packages (from pandas)\n",
      "Requirement already satisfied: pytz>=2011k in /home/cekees/proteus/stack/default_dev/lib/python2.7/site-packages (from pandas)\n",
      "Requirement already satisfied: numpy>=1.9.0 in /home/cekees/proteus/stack/default_dev/lib/python2.7/site-packages (from pandas)\n",
      "Requirement already satisfied: six>=1.5 in /home/cekees/proteus/stack/default_dev/lib/python2.7/site-packages (from python-dateutil->pandas)\n",
      "Installing collected packages: pandas\n",
      "  Running setup.py install for pandas ... \u001b[?25ldone\n",
      "\u001b[?25hSuccessfully installed pandas-0.21.0\n"
     ]
    }
   ],
   "source": [
    "!PATH=../proteus/stack/default_dev/bin:$PATH pip install pandas"
   ]
  },
  {
   "cell_type": "markdown",
   "metadata": {},
   "source": [
    "The default profile in default.yaml looks something like this:\n",
    "\n",
    "```\n",
    "# This profile file controls your <#> (HashDist) build environment.\n",
    "\n",
    "# In the future, we'll provide better incorporation of\n",
    "# automatic environment detection.  For now, have a look\n",
    "# at the YAML files in the top-level directory and choose\n",
    "# the most *specific* file that matches your environment.\n",
    "\n",
    "extends:\n",
    "- file: debian.yaml\n",
    "\n",
    "# The packages list specifies all the packages that you\n",
    "# require installed.  <#> will ensure that all packages\n",
    "# and their dependencies are installed when you build this\n",
    "# profile.\n",
    "\n",
    "packages:\n",
    "  recordtype:\n",
    "  launcher:\n",
    "  cmake:\n",
    "```\n",
    "\n",
    "Notice that # is a comment and the packages are simply listed. These packages must be in the `pkgs` subdirectory of the profile, for example `pkgs/pandas.yaml` contains:\n",
    "\n",
    "```\n",
    "extends: [setuptools_package]\n",
    "dependencies:\n",
    "  build: [numpy, python-dateutil, pytz]\n",
    "  run: [numpy, python-dateutil, pytz]\n",
    "\n",
    "sources:\n",
    "  - url: https://pypi.python.org/packages/source/p/pandas/pandas-0.13.0.tar.gz\n",
    "    key: tar.gz:loz7pjpsj7ucqdue4vah3qjjgzhhqjol```"
   ]
  },
  {
   "cell_type": "markdown",
   "metadata": {},
   "source": [
    "This structure descripts the source code for the package, any dependencies, and build rules (often just extended from some base package). There are some commands to help you pupulate this file for a new package. If the package is on the python package index, then you can use `hit skeleton-pypi`"
   ]
  },
  {
   "cell_type": "code",
   "execution_count": 15,
   "metadata": {},
   "outputs": [],
   "source": [
    "!cd ../proteus/stack && ../hashdist/bin/hit skeleton-pypi pymor"
   ]
  },
  {
   "cell_type": "code",
   "execution_count": 18,
   "metadata": {},
   "outputs": [
    {
     "name": "stdout",
     "output_type": "stream",
     "text": [
      "extends: [setuptools_package]\r\n",
      "\r\n",
      "dependencies:\r\n",
      "  build: []\r\n",
      "  run: []\r\n",
      "\r\n",
      "sources:\r\n",
      " - key: tar.gz:56s4imabx77kskp3ddxqmdyimgnjbdvh\r\n",
      "   url: https://pypi.python.org/packages/34/38/b62853b58ccdb89118d8ac4d09a7aa6f2a49d588921725d1dde571457099/pymor-0.4.2.tar.gz\r\n"
     ]
    }
   ],
   "source": [
    "!cat ../proteus/stack/pkgs/pymor.yaml"
   ]
  },
  {
   "cell_type": "markdown",
   "metadata": {},
   "source": [
    "Now you can add pymor to default.yaml, but be careful. You may have to track down some dependencies."
   ]
  },
  {
   "cell_type": "markdown",
   "metadata": {},
   "source": [
    "# Exercises\n",
    "1. Build a development profile\n",
    "2. Add a package from `pkgs` that is not originally in your profile and try rebuilding the profile\n",
    "3. Try adding a new package from pypi (i.e. one that is not already in `pkgs`\n",
    "4. Use `git` to see what commit of `hashdstack` you are on (in `proteus/stack`)"
   ]
  },
  {
   "cell_type": "code",
   "execution_count": null,
   "metadata": {},
   "outputs": [],
   "source": []
  }
 ],
 "metadata": {
  "kernelspec": {
   "display_name": "Python 2",
   "language": "python",
   "name": "python2"
  },
  "language_info": {
   "codemirror_mode": {
    "name": "ipython",
    "version": 2
   },
   "file_extension": ".py",
   "mimetype": "text/x-python",
   "name": "python",
   "nbconvert_exporter": "python",
   "pygments_lexer": "ipython2",
   "version": "2.7.11"
  }
 },
 "nbformat": 4,
 "nbformat_minor": 2
}
